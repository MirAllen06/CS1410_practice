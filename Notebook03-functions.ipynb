{
  "cells": [
    {
      "cell_type": "markdown",
      "metadata": {
        "id": "dE5JeErIqTp3"
      },
      "source": [
        "<a target=\"_blank\" href=\"https://colab.research.google.com/github/WSU-CS1410-AA/cs1410-notebooks/blob/main/Notebook03-functions.ipynb\">\n",
        "  <img src=\"https://colab.research.google.com/assets/colab-badge.svg\" alt=\"Open In Colab\"/>\n",
        "</a>"
      ]
    },
    {
      "cell_type": "markdown",
      "metadata": {
        "id": "DeMt91O-qTp8"
      },
      "source": [
        "# Functions\n",
        "\n",
        "Functions are the bread and butter of programming. A function is a named group of statements that achieves a certain task and/or produces a specific outcome. Here is the **definition** of a function that prints a given `n` number of stars in the same line."
      ]
    },
    {
      "cell_type": "code",
      "execution_count": null,
      "metadata": {
        "id": "nnhmiphQqTp8",
        "outputId": "af7ecc3c-b719-4841-c5de-1d08ca2da808",
        "colab": {
          "base_uri": "https://localhost:8080/"
        }
      },
      "outputs": [
        {
          "output_type": "stream",
          "name": "stdout",
          "text": [
            "Overwriting ex01.cpp\n"
          ]
        }
      ],
      "source": [
        "%%writefile ex01.cpp\n",
        "\n",
        "#include <iostream>\n",
        "using namespace std;\n",
        "\n",
        "void printStars(int n){\n",
        "  for(int i = 0; i < n; i++){\n",
        "    cout << '*';\n",
        "  }\n",
        "  cout << endl;\n",
        "}\n",
        "\n",
        "int main(){\n",
        "  printStars(69);\n",
        "  printStars(37);\n",
        "  printStars(5);\n",
        "  printStars(45);\n",
        "\n",
        "  return 0;\n",
        "}"
      ]
    },
    {
      "cell_type": "markdown",
      "metadata": {
        "id": "Eovtu_3wqTp9"
      },
      "source": [
        "Now that we have this function, we can use it every time we want to print stars. For example, the main function above calls the `printStars()` four times.\n",
        "\n",
        "Let's run this program and check its output."
      ]
    },
    {
      "cell_type": "code",
      "execution_count": null,
      "metadata": {
        "id": "amEauvqxqTp9",
        "outputId": "cb3d5a01-83d4-40e5-ec22-52ebcdf12285",
        "colab": {
          "base_uri": "https://localhost:8080/"
        }
      },
      "outputs": [
        {
          "output_type": "stream",
          "name": "stdout",
          "text": [
            "*********************************************************************\n",
            "*************************************\n",
            "*****\n",
            "*********************************************\n"
          ]
        }
      ],
      "source": [
        "!g++ -std=c++17 ex01.cpp -o ex01\n",
        "!./ex01"
      ]
    },
    {
      "cell_type": "markdown",
      "metadata": {
        "id": "KsikbNm_qTp-"
      },
      "source": [
        "## Function prototypes\n",
        "C++ distinguishes **function definitions** such as the above definition of the `printStars` function from **function prototypes**. A **function prototype** contains only:\n",
        "* the return type,\n",
        "* the name,\n",
        "* the parameter list, and\n",
        "* semicolon\n",
        "\n",
        "Function prototypes typically reside in header files (.h files); they introduce functions to the compiler and allow us to call functions before we define them.\n",
        "\n",
        "Here is the **prototype** of the **function definition** above.\n",
        "\n",
        "```cpp\n",
        "void printStars(int n);\n",
        "```\n",
        "\n",
        "And here are two more example function prototypes:\n",
        "\n",
        "```cpp\n",
        "// Prototypes\n",
        "bool isOdd(int x);\n",
        "bool isEven(int);\n",
        "```\n",
        "\n",
        "Notice how inside the parameter list (between the parentheses), only the parameter types are required; the names of the parameters are optional."
      ]
    },
    {
      "cell_type": "markdown",
      "metadata": {
        "id": "7dKdAqc0qTp-"
      },
      "source": [
        "\n",
        "## Function definitions\n",
        "A function definition is a full specification of the function. Here are the definitions of the above prototypes.\n",
        "\n",
        "```cpp\n",
        "bool isOdd(int x){\n",
        "    return x % 2 != 0;\n",
        "}\n",
        "\n",
        "bool isEven(int x){\n",
        "    return !isOdd(x);\n",
        "}\n",
        "```"
      ]
    },
    {
      "cell_type": "markdown",
      "metadata": {
        "id": "ynakhpgIqTp_"
      },
      "source": [
        "Take, for example, the above definition of the `isOdd` function. This definition consists of the following parts:\n",
        "* The type of the value returned by the function:\n",
        "\n",
        " `bool`\n",
        "\n",
        "* The name of the function:\n",
        "\n",
        " `isOdd`\n",
        "\n",
        "* The list of the function's expected parameters placed between `(` and `)`:\n",
        "\n",
        " `(int x)`\n",
        "\n",
        " Keep in mind that in functions definitions, both parameter types and names are required.\n",
        "\n",
        "* The body of the function placed between `{` and `}`:\n",
        "\n",
        " ```\n",
        " {\n",
        "    return x % 2 != 0;\n",
        " }\n",
        " ```\n",
        "\n",
        " Always remember that **a function that is supposed to return a value must contain a `return` statement**. In other words, if the function's return type is not `void`, its body must have at least a single return statement.\n",
        "\n",
        "## Calling functions\n",
        "Functions have to be called. A function that is never called is useless. We call functions by using their names followed by zero or more comma-separated argument list within parentheses `()`. Doing so transfers control from the calling program to the function itself. This control will return back to the calling program when the end of the function is reached or when a `return` statement is encountered. Here are example calls to the functions we defined earlier. These functions are being called to figure out the type of a given number. For example,\n",
        "\n",
        "```cpp\n",
        "isOdd(13);\n",
        "```"
      ]
    },
    {
      "cell_type": "markdown",
      "metadata": {
        "id": "m332YP1dqTp_"
      },
      "source": [
        "## CODING CHALLENGE 1\n",
        "\n",
        "Write the **function prototypes** for the following two functions: one with parameter types only and one with both parameter types and names.\n",
        "\n",
        "``` C++\n",
        "bool isLessThan(double a, double b) {\n",
        "    return a < b;\n",
        "}\n",
        "\n",
        "float maximumOfThree(float a, float b, float c) {\n",
        "    if(a > b){\n",
        "        if(a > c){\n",
        "            return a;\n",
        "        } else {\n",
        "            return c;\n",
        "        }\n",
        "    } else {\n",
        "        if (b > c) {\n",
        "            return b;\n",
        "        } else {\n",
        "            return c;\n",
        "        }\n",
        "    }\n",
        "    \n",
        "}\n",
        "```\n",
        "\n",
        "Call these functions in the main function below and display their returned values in the program below."
      ]
    },
    {
      "cell_type": "code",
      "execution_count": 48,
      "metadata": {
        "id": "OvxaynJhqTp_",
        "outputId": "a652f69a-0a36-4365-fc1f-5e5af4787b70",
        "colab": {
          "base_uri": "https://localhost:8080/"
        }
      },
      "outputs": [
        {
          "output_type": "stream",
          "name": "stdout",
          "text": [
            "Overwriting ch01.cpp\n"
          ]
        }
      ],
      "source": [
        "%%writefile ch01.cpp\n",
        "\n",
        "#include <iostream>\n",
        "using namespace std;\n",
        "\n",
        "// TODO: Add prototypes here\n",
        "bool isLessThan(double, double);\n",
        "float maximumOfThree(float a, float b, float c)\n",
        "\n",
        "// TODO: Copy the definitions above here\n",
        "bool isLessThan(double x, double y) {\n",
        "    return x < y;\n",
        "}\n",
        "\n",
        "float maximumOfThree(float a, float b, float c) {\n",
        "    if(a > b){\n",
        "        if(a > c){\n",
        "            return a;\n",
        "        } else {\n",
        "            return c;\n",
        "        }\n",
        "    } else {\n",
        "        if (b > c) {\n",
        "            return b;\n",
        "        } else {\n",
        "            return c;\n",
        "        }\n",
        "    }\n",
        "\n",
        "}\n",
        "\n",
        "int main(){\n",
        "  // TODO: Call the above functions here\n",
        "  double x, y;\n",
        "  float a, b, c;\n",
        "  float max\n",
        "\n",
        "  cout << \"Enter two numbers:\" << endl;\n",
        "  cin >> x, y;\n",
        "\n",
        "  if(isLessThan = x < y){\n",
        "    cout << x << \" is less than \" << y << endl;\n",
        "  } else{\n",
        "    cout << y << \" is less than \" << x << endl;\n",
        "  }\n",
        "\n",
        "  cout << \"Enter three numbers:\" << endl;\n",
        "  cin >> a, b, c;\n",
        "\n",
        "  max = maximumOfThree(float a, float b, float c);\n",
        "  cout << \"The maximum numer is: \" << max << endl;\n",
        "\n",
        "  return 0;\n",
        "}"
      ]
    },
    {
      "cell_type": "code",
      "source": [
        "!g++ -std=c++17 ch01.cpp -o ch01\n",
        "!./ch01"
      ],
      "metadata": {
        "id": "uY4mQXect0k2",
        "colab": {
          "base_uri": "https://localhost:8080/"
        },
        "outputId": "a8d262a9-322c-479a-b63a-e9387c3052dc"
      },
      "execution_count": 49,
      "outputs": [
        {
          "output_type": "stream",
          "name": "stdout",
          "text": [
            "\u001b[01m\u001b[Kch01.cpp:10:1:\u001b[m\u001b[K \u001b[01;31m\u001b[Kerror: \u001b[m\u001b[Kexpected initializer before ‘\u001b[01m\u001b[Kbool\u001b[m\u001b[K’\n",
            "   10 | \u001b[01;31m\u001b[Kbool\u001b[m\u001b[K isLessThan(double x, double y) {\n",
            "      | \u001b[01;31m\u001b[K^~~~\u001b[m\u001b[K\n",
            "\u001b[01m\u001b[Kch01.cpp:\u001b[m\u001b[K In function ‘\u001b[01m\u001b[Kint main()\u001b[m\u001b[K’:\n",
            "\u001b[01m\u001b[Kch01.cpp:37:3:\u001b[m\u001b[K \u001b[01;31m\u001b[Kerror: \u001b[m\u001b[Kexpected initializer before ‘\u001b[01m\u001b[Kcout\u001b[m\u001b[K’\n",
            "   37 |   \u001b[01;31m\u001b[Kcout\u001b[m\u001b[K << \"Enter two numbers:\" << endl;\n",
            "      |   \u001b[01;31m\u001b[K^~~~\u001b[m\u001b[K\n",
            "\u001b[01m\u001b[Kch01.cpp:40:17:\u001b[m\u001b[K \u001b[01;31m\u001b[Kerror: \u001b[m\u001b[Kassignment of function ‘\u001b[01m\u001b[Kbool isLessThan(double, double)\u001b[m\u001b[K’\n",
            "   40 |   if(\u001b[01;31m\u001b[KisLessThan = x < y\u001b[m\u001b[K){\n",
            "      |      \u001b[01;31m\u001b[K~~~~~~~~~~~^~~~~~~\u001b[m\u001b[K\n",
            "\u001b[01m\u001b[Kch01.cpp:49:24:\u001b[m\u001b[K \u001b[01;31m\u001b[Kerror: \u001b[m\u001b[Kexpected primary-expression before ‘\u001b[01m\u001b[Kfloat\u001b[m\u001b[K’\n",
            "   49 |   max = maximumOfThree(\u001b[01;31m\u001b[Kfloat\u001b[m\u001b[K a, float b, float c);\n",
            "      |                        \u001b[01;31m\u001b[K^~~~~\u001b[m\u001b[K\n",
            "\u001b[01m\u001b[Kch01.cpp:49:33:\u001b[m\u001b[K \u001b[01;31m\u001b[Kerror: \u001b[m\u001b[Kexpected primary-expression before ‘\u001b[01m\u001b[Kfloat\u001b[m\u001b[K’\n",
            "   49 |   max = maximumOfThree(float a, \u001b[01;31m\u001b[Kfloat\u001b[m\u001b[K b, float c);\n",
            "      |                                 \u001b[01;31m\u001b[K^~~~~\u001b[m\u001b[K\n",
            "\u001b[01m\u001b[Kch01.cpp:49:42:\u001b[m\u001b[K \u001b[01;31m\u001b[Kerror: \u001b[m\u001b[Kexpected primary-expression before ‘\u001b[01m\u001b[Kfloat\u001b[m\u001b[K’\n",
            "   49 |   max = maximumOfThree(float a, float b, \u001b[01;31m\u001b[Kfloat\u001b[m\u001b[K c);\n",
            "      |                                          \u001b[01;31m\u001b[K^~~~~\u001b[m\u001b[K\n",
            "\u001b[01m\u001b[Kch01.cpp:50:36:\u001b[m\u001b[K \u001b[01;31m\u001b[Kerror: \u001b[m\u001b[Kno match for ‘\u001b[01m\u001b[Koperator<<\u001b[m\u001b[K’ (operand types are ‘\u001b[01m\u001b[Kstd::basic_ostream<char>\u001b[m\u001b[K’ and ‘\u001b[01m\u001b[K<unresolved overloaded function type>\u001b[m\u001b[K’)\n",
            "   50 |   \u001b[01;31m\u001b[Kcout << \"The maximum numer is: \" << max\u001b[m\u001b[K << endl;\n",
            "      |   \u001b[01;31m\u001b[K~~~~~~~~~~~~~~~~~~~~~~~~~~~~~~~~~^~~~~~\u001b[m\u001b[K\n",
            "In file included from \u001b[01m\u001b[K/usr/include/c++/11/iostream:39\u001b[m\u001b[K,\n",
            "                 from \u001b[01m\u001b[Kch01.cpp:2\u001b[m\u001b[K:\n",
            "\u001b[01m\u001b[K/usr/include/c++/11/ostream:108:7:\u001b[m\u001b[K \u001b[01;36m\u001b[Knote: \u001b[m\u001b[Kcandidate: ‘\u001b[01m\u001b[Kstd::basic_ostream<_CharT, _Traits>::__ostream_type& std::basic_ostream<_CharT, _Traits>::operator<<(std::basic_ostream<_CharT, _Traits>::__ostream_type& (*)(std::basic_ostream<_CharT, _Traits>::__ostream_type&)) [with _CharT = char; _Traits = std::char_traits<char>; std::basic_ostream<_CharT, _Traits>::__ostream_type = std::basic_ostream<char>]\u001b[m\u001b[K’\n",
            "  108 |       \u001b[01;36m\u001b[Koperator\u001b[m\u001b[K<<(__ostream_type& (*__pf)(__ostream_type&))\n",
            "      |       \u001b[01;36m\u001b[K^~~~~~~~\u001b[m\u001b[K\n",
            "\u001b[01m\u001b[K/usr/include/c++/11/ostream:108:36:\u001b[m\u001b[K \u001b[01;36m\u001b[Knote: \u001b[m\u001b[K  no known conversion for argument 1 from ‘\u001b[01m\u001b[K<unresolved overloaded function type>\u001b[m\u001b[K’ to ‘\u001b[01m\u001b[Kstd::basic_ostream<char>::__ostream_type& (*)(std::basic_ostream<char>::__ostream_type&)\u001b[m\u001b[K’ {aka ‘\u001b[01m\u001b[Kstd::basic_ostream<char>& (*)(std::basic_ostream<char>&)\u001b[m\u001b[K’}\n",
            "  108 |       operator<<(\u001b[01;36m\u001b[K__ostream_type& (*__pf)(__ostream_type&)\u001b[m\u001b[K)\n",
            "      |                  \u001b[01;36m\u001b[K~~~~~~~~~~~~~~~~~~^~~~~~~~~~~~~~~~~~~~~~\u001b[m\u001b[K\n",
            "\u001b[01m\u001b[K/usr/include/c++/11/ostream:117:7:\u001b[m\u001b[K \u001b[01;36m\u001b[Knote: \u001b[m\u001b[Kcandidate: ‘\u001b[01m\u001b[Kstd::basic_ostream<_CharT, _Traits>::__ostream_type& std::basic_ostream<_CharT, _Traits>::operator<<(std::basic_ostream<_CharT, _Traits>::__ios_type& (*)(std::basic_ostream<_CharT, _Traits>::__ios_type&)) [with _CharT = char; _Traits = std::char_traits<char>; std::basic_ostream<_CharT, _Traits>::__ostream_type = std::basic_ostream<char>; std::basic_ostream<_CharT, _Traits>::__ios_type = std::basic_ios<char>]\u001b[m\u001b[K’\n",
            "  117 |       \u001b[01;36m\u001b[Koperator\u001b[m\u001b[K<<(__ios_type& (*__pf)(__ios_type&))\n",
            "      |       \u001b[01;36m\u001b[K^~~~~~~~\u001b[m\u001b[K\n",
            "\u001b[01m\u001b[K/usr/include/c++/11/ostream:117:32:\u001b[m\u001b[K \u001b[01;36m\u001b[Knote: \u001b[m\u001b[K  no known conversion for argument 1 from ‘\u001b[01m\u001b[K<unresolved overloaded function type>\u001b[m\u001b[K’ to ‘\u001b[01m\u001b[Kstd::basic_ostream<char>::__ios_type& (*)(std::basic_ostream<char>::__ios_type&)\u001b[m\u001b[K’ {aka ‘\u001b[01m\u001b[Kstd::basic_ios<char>& (*)(std::basic_ios<char>&)\u001b[m\u001b[K’}\n",
            "  117 |       operator<<(\u001b[01;36m\u001b[K__ios_type& (*__pf)(__ios_type&)\u001b[m\u001b[K)\n",
            "      |                  \u001b[01;36m\u001b[K~~~~~~~~~~~~~~^~~~~~~~~~~~~~~~~~\u001b[m\u001b[K\n",
            "\u001b[01m\u001b[K/usr/include/c++/11/ostream:127:7:\u001b[m\u001b[K \u001b[01;36m\u001b[Knote: \u001b[m\u001b[Kcandidate: ‘\u001b[01m\u001b[Kstd::basic_ostream<_CharT, _Traits>::__ostream_type& std::basic_ostream<_CharT, _Traits>::operator<<(std::ios_base& (*)(std::ios_base&)) [with _CharT = char; _Traits = std::char_traits<char>; std::basic_ostream<_CharT, _Traits>::__ostream_type = std::basic_ostream<char>]\u001b[m\u001b[K’\n",
            "  127 |       \u001b[01;36m\u001b[Koperator\u001b[m\u001b[K<<(ios_base& (*__pf) (ios_base&))\n",
            "      |       \u001b[01;36m\u001b[K^~~~~~~~\u001b[m\u001b[K\n",
            "\u001b[01m\u001b[K/usr/include/c++/11/ostream:127:30:\u001b[m\u001b[K \u001b[01;36m\u001b[Knote: \u001b[m\u001b[K  no known conversion for argument 1 from ‘\u001b[01m\u001b[K<unresolved overloaded function type>\u001b[m\u001b[K’ to ‘\u001b[01m\u001b[Kstd::ios_base& (*)(std::ios_base&)\u001b[m\u001b[K’\n",
            "  127 |       operator<<(\u001b[01;36m\u001b[Kios_base& (*__pf) (ios_base&)\u001b[m\u001b[K)\n",
            "      |                  \u001b[01;36m\u001b[K~~~~~~~~~~~~^~~~~~~~~~~~~~~~~\u001b[m\u001b[K\n",
            "\u001b[01m\u001b[K/usr/include/c++/11/ostream:166:7:\u001b[m\u001b[K \u001b[01;36m\u001b[Knote: \u001b[m\u001b[Kcandidate: ‘\u001b[01m\u001b[Kstd::basic_ostream<_CharT, _Traits>::__ostream_type& std::basic_ostream<_CharT, _Traits>::operator<<(long int) [with _CharT = char; _Traits = std::char_traits<char>; std::basic_ostream<_CharT, _Traits>::__ostream_type = std::basic_ostream<char>]\u001b[m\u001b[K’\n",
            "  166 |       \u001b[01;36m\u001b[Koperator\u001b[m\u001b[K<<(long __n)\n",
            "      |       \u001b[01;36m\u001b[K^~~~~~~~\u001b[m\u001b[K\n",
            "\u001b[01m\u001b[K/usr/include/c++/11/ostream:166:23:\u001b[m\u001b[K \u001b[01;36m\u001b[Knote: \u001b[m\u001b[K  no known conversion for argument 1 from ‘\u001b[01m\u001b[K<unresolved overloaded function type>\u001b[m\u001b[K’ to ‘\u001b[01m\u001b[Klong int\u001b[m\u001b[K’\n",
            "  166 |       operator<<(\u001b[01;36m\u001b[Klong __n\u001b[m\u001b[K)\n",
            "      |                  \u001b[01;36m\u001b[K~~~~~^~~\u001b[m\u001b[K\n",
            "\u001b[01m\u001b[K/usr/include/c++/11/ostream:170:7:\u001b[m\u001b[K \u001b[01;36m\u001b[Knote: \u001b[m\u001b[Kcandidate: ‘\u001b[01m\u001b[Kstd::basic_ostream<_CharT, _Traits>::__ostream_type& std::basic_ostream<_CharT, _Traits>::operator<<(long unsigned int) [with _CharT = char; _Traits = std::char_traits<char>; std::basic_ostream<_CharT, _Traits>::__ostream_type = std::basic_ostream<char>]\u001b[m\u001b[K’\n",
            "  170 |       \u001b[01;36m\u001b[Koperator\u001b[m\u001b[K<<(unsigned long __n)\n",
            "      |       \u001b[01;36m\u001b[K^~~~~~~~\u001b[m\u001b[K\n",
            "\u001b[01m\u001b[K/usr/include/c++/11/ostream:170:32:\u001b[m\u001b[K \u001b[01;36m\u001b[Knote: \u001b[m\u001b[K  no known conversion for argument 1 from ‘\u001b[01m\u001b[K<unresolved overloaded function type>\u001b[m\u001b[K’ to ‘\u001b[01m\u001b[Klong unsigned int\u001b[m\u001b[K’\n",
            "  170 |       operator<<(\u001b[01;36m\u001b[Kunsigned long __n\u001b[m\u001b[K)\n",
            "      |                  \u001b[01;36m\u001b[K~~~~~~~~~~~~~~^~~\u001b[m\u001b[K\n",
            "\u001b[01m\u001b[K/usr/include/c++/11/ostream:174:7:\u001b[m\u001b[K \u001b[01;36m\u001b[Knote: \u001b[m\u001b[Kcandidate: ‘\u001b[01m\u001b[Kstd::basic_ostream<_CharT, _Traits>::__ostream_type& std::basic_ostream<_CharT, _Traits>::operator<<(bool) [with _CharT = char; _Traits = std::char_traits<char>; std::basic_ostream<_CharT, _Traits>::__ostream_type = std::basic_ostream<char>]\u001b[m\u001b[K’\n",
            "  174 |       \u001b[01;36m\u001b[Koperator\u001b[m\u001b[K<<(bool __n)\n",
            "      |       \u001b[01;36m\u001b[K^~~~~~~~\u001b[m\u001b[K\n",
            "\u001b[01m\u001b[K/usr/include/c++/11/ostream:174:23:\u001b[m\u001b[K \u001b[01;36m\u001b[Knote: \u001b[m\u001b[K  no known conversion for argument 1 from ‘\u001b[01m\u001b[K<unresolved overloaded function type>\u001b[m\u001b[K’ to ‘\u001b[01m\u001b[Kbool\u001b[m\u001b[K’\n",
            "  174 |       operator<<(\u001b[01;36m\u001b[Kbool __n\u001b[m\u001b[K)\n",
            "      |                  \u001b[01;36m\u001b[K~~~~~^~~\u001b[m\u001b[K\n",
            "In file included from \u001b[01m\u001b[K/usr/include/c++/11/ostream:829\u001b[m\u001b[K,\n",
            "                 from \u001b[01m\u001b[K/usr/include/c++/11/iostream:39\u001b[m\u001b[K,\n",
            "                 from \u001b[01m\u001b[Kch01.cpp:2\u001b[m\u001b[K:\n",
            "\u001b[01m\u001b[K/usr/include/c++/11/bits/ostream.tcc:91:5:\u001b[m\u001b[K \u001b[01;36m\u001b[Knote: \u001b[m\u001b[Kcandidate: ‘\u001b[01m\u001b[Kstd::basic_ostream<_CharT, _Traits>& std::basic_ostream<_CharT, _Traits>::operator<<(short int) [with _CharT = char; _Traits = std::char_traits<char>]\u001b[m\u001b[K’\n",
            "   91 |     \u001b[01;36m\u001b[Kbasic_ostream<_CharT, _Traits>\u001b[m\u001b[K::\n",
            "      |     \u001b[01;36m\u001b[K^~~~~~~~~~~~~~~~~~~~~~~~~~~~~~\u001b[m\u001b[K\n",
            "\u001b[01m\u001b[K/usr/include/c++/11/bits/ostream.tcc:92:22:\u001b[m\u001b[K \u001b[01;36m\u001b[Knote: \u001b[m\u001b[K  no known conversion for argument 1 from ‘\u001b[01m\u001b[K<unresolved overloaded function type>\u001b[m\u001b[K’ to ‘\u001b[01m\u001b[Kshort int\u001b[m\u001b[K’\n",
            "   92 |     operator<<(\u001b[01;36m\u001b[Kshort __n\u001b[m\u001b[K)\n",
            "      |                \u001b[01;36m\u001b[K~~~~~~^~~\u001b[m\u001b[K\n",
            "In file included from \u001b[01m\u001b[K/usr/include/c++/11/iostream:39\u001b[m\u001b[K,\n",
            "                 from \u001b[01m\u001b[Kch01.cpp:2\u001b[m\u001b[K:\n",
            "\u001b[01m\u001b[K/usr/include/c++/11/ostream:181:7:\u001b[m\u001b[K \u001b[01;36m\u001b[Knote: \u001b[m\u001b[Kcandidate: ‘\u001b[01m\u001b[Kstd::basic_ostream<_CharT, _Traits>::__ostream_type& std::basic_ostream<_CharT, _Traits>::operator<<(short unsigned int) [with _CharT = char; _Traits = std::char_traits<char>; std::basic_ostream<_CharT, _Traits>::__ostream_type = std::basic_ostream<char>]\u001b[m\u001b[K’\n",
            "  181 |       \u001b[01;36m\u001b[Koperator\u001b[m\u001b[K<<(unsigned short __n)\n",
            "      |       \u001b[01;36m\u001b[K^~~~~~~~\u001b[m\u001b[K\n",
            "\u001b[01m\u001b[K/usr/include/c++/11/ostream:181:33:\u001b[m\u001b[K \u001b[01;36m\u001b[Knote: \u001b[m\u001b[K  no known conversion for argument 1 from ‘\u001b[01m\u001b[K<unresolved overloaded function type>\u001b[m\u001b[K’ to ‘\u001b[01m\u001b[Kshort unsigned int\u001b[m\u001b[K’\n",
            "  181 |       operator<<(\u001b[01;36m\u001b[Kunsigned short __n\u001b[m\u001b[K)\n",
            "      |                  \u001b[01;36m\u001b[K~~~~~~~~~~~~~~~^~~\u001b[m\u001b[K\n",
            "In file included from \u001b[01m\u001b[K/usr/include/c++/11/ostream:829\u001b[m\u001b[K,\n",
            "                 from \u001b[01m\u001b[K/usr/include/c++/11/iostream:39\u001b[m\u001b[K,\n",
            "                 from \u001b[01m\u001b[Kch01.cpp:2\u001b[m\u001b[K:\n",
            "\u001b[01m\u001b[K/usr/include/c++/11/bits/ostream.tcc:105:5:\u001b[m\u001b[K \u001b[01;36m\u001b[Knote: \u001b[m\u001b[Kcandidate: ‘\u001b[01m\u001b[Kstd::basic_ostream<_CharT, _Traits>& std::basic_ostream<_CharT, _Traits>::operator<<(int) [with _CharT = char; _Traits = std::char_traits<char>]\u001b[m\u001b[K’\n",
            "  105 |     \u001b[01;36m\u001b[Kbasic_ostream<_CharT, _Traits>\u001b[m\u001b[K::\n",
            "      |     \u001b[01;36m\u001b[K^~~~~~~~~~~~~~~~~~~~~~~~~~~~~~\u001b[m\u001b[K\n",
            "\u001b[01m\u001b[K/usr/include/c++/11/bits/ostream.tcc:106:20:\u001b[m\u001b[K \u001b[01;36m\u001b[Knote: \u001b[m\u001b[K  no known conversion for argument 1 from ‘\u001b[01m\u001b[K<unresolved overloaded function type>\u001b[m\u001b[K’ to ‘\u001b[01m\u001b[Kint\u001b[m\u001b[K’\n",
            "  106 |     operator<<(\u001b[01;36m\u001b[Kint __n\u001b[m\u001b[K)\n",
            "      |                \u001b[01;36m\u001b[K~~~~^~~\u001b[m\u001b[K\n",
            "In file included from \u001b[01m\u001b[K/usr/include/c++/11/iostream:39\u001b[m\u001b[K,\n",
            "                 from \u001b[01m\u001b[Kch01.cpp:2\u001b[m\u001b[K:\n",
            "\u001b[01m\u001b[K/usr/include/c++/11/ostream:192:7:\u001b[m\u001b[K \u001b[01;36m\u001b[Knote: \u001b[m\u001b[Kcandidate: ‘\u001b[01m\u001b[Kstd::basic_ostream<_CharT, _Traits>::__ostream_type& std::basic_ostream<_CharT, _Traits>::operator<<(unsigned int) [with _CharT = char; _Traits = std::char_traits<char>; std::basic_ostream<_CharT, _Traits>::__ostream_type = std::basic_ostream<char>]\u001b[m\u001b[K’\n",
            "  192 |       \u001b[01;36m\u001b[Koperator\u001b[m\u001b[K<<(unsigned int __n)\n",
            "      |       \u001b[01;36m\u001b[K^~~~~~~~\u001b[m\u001b[K\n",
            "\u001b[01m\u001b[K/usr/include/c++/11/ostream:192:31:\u001b[m\u001b[K \u001b[01;36m\u001b[Knote: \u001b[m\u001b[K  no known conversion for argument 1 from ‘\u001b[01m\u001b[K<unresolved overloaded function type>\u001b[m\u001b[K’ to ‘\u001b[01m\u001b[Kunsigned int\u001b[m\u001b[K’\n",
            "  192 |       operator<<(\u001b[01;36m\u001b[Kunsigned int __n\u001b[m\u001b[K)\n",
            "      |                  \u001b[01;36m\u001b[K~~~~~~~~~~~~~^~~\u001b[m\u001b[K\n",
            "\u001b[01m\u001b[K/usr/include/c++/11/ostream:201:7:\u001b[m\u001b[K \u001b[01;36m\u001b[Knote: \u001b[m\u001b[Kcandidate: ‘\u001b[01m\u001b[Kstd::basic_ostream<_CharT, _Traits>::__ostream_type& std::basic_ostream<_CharT, _Traits>::operator<<(long long int) [with _CharT = char; _Traits = std::char_traits<char>; std::basic_ostream<_CharT, _Traits>::__ostream_type = std::basic_ostream<char>]\u001b[m\u001b[K’\n",
            "  201 |       \u001b[01;36m\u001b[Koperator\u001b[m\u001b[K<<(long long __n)\n",
            "      |       \u001b[01;36m\u001b[K^~~~~~~~\u001b[m\u001b[K\n",
            "\u001b[01m\u001b[K/usr/include/c++/11/ostream:201:28:\u001b[m\u001b[K \u001b[01;36m\u001b[Knote: \u001b[m\u001b[K  no known conversion for argument 1 from ‘\u001b[01m\u001b[K<unresolved overloaded function type>\u001b[m\u001b[K’ to ‘\u001b[01m\u001b[Klong long int\u001b[m\u001b[K’\n",
            "  201 |       operator<<(\u001b[01;36m\u001b[Klong long __n\u001b[m\u001b[K)\n",
            "      |                  \u001b[01;36m\u001b[K~~~~~~~~~~^~~\u001b[m\u001b[K\n",
            "\u001b[01m\u001b[K/usr/include/c++/11/ostream:205:7:\u001b[m\u001b[K \u001b[01;36m\u001b[Knote: \u001b[m\u001b[Kcandidate: ‘\u001b[01m\u001b[Kstd::basic_ostream<_CharT, _Traits>::__ostream_type& std::basic_ostream<_CharT, _Traits>::operator<<(long long unsigned int) [with _CharT = char; _Traits = std::char_traits<char>; std::basic_ostream<_CharT, _Traits>::__ostream_type = std::basic_ostream<char>]\u001b[m\u001b[K’\n",
            "  205 |       \u001b[01;36m\u001b[Koperator\u001b[m\u001b[K<<(unsigned long long __n)\n",
            "      |       \u001b[01;36m\u001b[K^~~~~~~~\u001b[m\u001b[K\n",
            "\u001b[01m\u001b[K/usr/include/c++/11/ostream:205:37:\u001b[m\u001b[K \u001b[01;36m\u001b[Knote: \u001b[m\u001b[K  no known conversion for argument 1 from ‘\u001b[01m\u001b[K<unresolved overloaded function type>\u001b[m\u001b[K’ to ‘\u001b[01m\u001b[Klong long unsigned int\u001b[m\u001b[K’\n",
            "  205 |       operator<<(\u001b[01;36m\u001b[Kunsigned long long __n\u001b[m\u001b[K)\n",
            "      |                  \u001b[01;36m\u001b[K~~~~~~~~~~~~~~~~~~~^~~\u001b[m\u001b[K\n",
            "\u001b[01m\u001b[K/usr/include/c++/11/ostream:220:7:\u001b[m\u001b[K \u001b[01;36m\u001b[Knote: \u001b[m\u001b[Kcandidate: ‘\u001b[01m\u001b[Kstd::basic_ostream<_CharT, _Traits>::__ostream_type& std::basic_ostream<_CharT, _Traits>::operator<<(double) [with _CharT = char; _Traits = std::char_traits<char>; std::basic_ostream<_CharT, _Traits>::__ostream_type = std::basic_ostream<char>]\u001b[m\u001b[K’\n",
            "  220 |       \u001b[01;36m\u001b[Koperator\u001b[m\u001b[K<<(double __f)\n",
            "      |       \u001b[01;36m\u001b[K^~~~~~~~\u001b[m\u001b[K\n",
            "\u001b[01m\u001b[K/usr/include/c++/11/ostream:220:25:\u001b[m\u001b[K \u001b[01;36m\u001b[Knote: \u001b[m\u001b[K  no known conversion for argument 1 from ‘\u001b[01m\u001b[K<unresolved overloaded function type>\u001b[m\u001b[K’ to ‘\u001b[01m\u001b[Kdouble\u001b[m\u001b[K’\n",
            "  220 |       operator<<(\u001b[01;36m\u001b[Kdouble __f\u001b[m\u001b[K)\n",
            "      |                  \u001b[01;36m\u001b[K~~~~~~~^~~\u001b[m\u001b[K\n",
            "\u001b[01m\u001b[K/usr/include/c++/11/ostream:224:7:\u001b[m\u001b[K \u001b[01;36m\u001b[Knote: \u001b[m\u001b[Kcandidate: ‘\u001b[01m\u001b[Kstd::basic_ostream<_CharT, _Traits>::__ostream_type& std::basic_ostream<_CharT, _Traits>::operator<<(float) [with _CharT = char; _Traits = std::char_traits<char>; std::basic_ostream<_CharT, _Traits>::__ostream_type = std::basic_ostream<char>]\u001b[m\u001b[K’\n",
            "  224 |       \u001b[01;36m\u001b[Koperator\u001b[m\u001b[K<<(float __f)\n",
            "      |       \u001b[01;36m\u001b[K^~~~~~~~\u001b[m\u001b[K\n",
            "\u001b[01m\u001b[K/usr/include/c++/11/ostream:224:24:\u001b[m\u001b[K \u001b[01;36m\u001b[Knote: \u001b[m\u001b[K  no known conversion for argument 1 from ‘\u001b[01m\u001b[K<unresolved overloaded function type>\u001b[m\u001b[K’ to ‘\u001b[01m\u001b[Kfloat\u001b[m\u001b[K’\n",
            "  224 |       operator<<(\u001b[01;36m\u001b[Kfloat __f\u001b[m\u001b[K)\n",
            "      |                  \u001b[01;36m\u001b[K~~~~~~^~~\u001b[m\u001b[K\n",
            "\u001b[01m\u001b[K/usr/include/c++/11/ostream:232:7:\u001b[m\u001b[K \u001b[01;36m\u001b[Knote: \u001b[m\u001b[Kcandidate: ‘\u001b[01m\u001b[Kstd::basic_ostream<_CharT, _Traits>::__ostream_type& std::basic_ostream<_CharT, _Traits>::operator<<(long double) [with _CharT = char; _Traits = std::char_traits<char>; std::basic_ostream<_CharT, _Traits>::__ostream_type = std::basic_ostream<char>]\u001b[m\u001b[K’\n",
            "  232 |       \u001b[01;36m\u001b[Koperator\u001b[m\u001b[K<<(long double __f)\n",
            "      |       \u001b[01;36m\u001b[K^~~~~~~~\u001b[m\u001b[K\n",
            "\u001b[01m\u001b[K/usr/include/c++/11/ostream:232:30:\u001b[m\u001b[K \u001b[01;36m\u001b[Knote: \u001b[m\u001b[K  no known conversion for argument 1 from ‘\u001b[01m\u001b[K<unresolved overloaded function type>\u001b[m\u001b[K’ to ‘\u001b[01m\u001b[Klong double\u001b[m\u001b[K’\n",
            "  232 |       operator<<(\u001b[01;36m\u001b[Klong double __f\u001b[m\u001b[K)\n",
            "      |                  \u001b[01;36m\u001b[K~~~~~~~~~~~~^~~\u001b[m\u001b[K\n",
            "\u001b[01m\u001b[K/usr/include/c++/11/ostream:245:7:\u001b[m\u001b[K \u001b[01;36m\u001b[Knote: \u001b[m\u001b[Kcandidate: ‘\u001b[01m\u001b[Kstd::basic_ostream<_CharT, _Traits>::__ostream_type& std::basic_ostream<_CharT, _Traits>::operator<<(const void*) [with _CharT = char; _Traits = std::char_traits<char>; std::basic_ostream<_CharT, _Traits>::__ostream_type = std::basic_ostream<char>]\u001b[m\u001b[K’\n",
            "  245 |       \u001b[01;36m\u001b[Koperator\u001b[m\u001b[K<<(const void* __p)\n",
            "      |       \u001b[01;36m\u001b[K^~~~~~~~\u001b[m\u001b[K\n",
            "\u001b[01m\u001b[K/usr/include/c++/11/ostream:245:30:\u001b[m\u001b[K \u001b[01;36m\u001b[Knote: \u001b[m\u001b[K  no known conversion for argument 1 from ‘\u001b[01m\u001b[K<unresolved overloaded function type>\u001b[m\u001b[K’ to ‘\u001b[01m\u001b[Kconst void*\u001b[m\u001b[K’\n",
            "  245 |       operator<<(\u001b[01;36m\u001b[Kconst void* __p\u001b[m\u001b[K)\n",
            "      |                  \u001b[01;36m\u001b[K~~~~~~~~~~~~^~~\u001b[m\u001b[K\n",
            "\u001b[01m\u001b[K/usr/include/c++/11/ostream:250:7:\u001b[m\u001b[K \u001b[01;36m\u001b[Knote: \u001b[m\u001b[Kcandidate: ‘\u001b[01m\u001b[Kstd::basic_ostream<_CharT, _Traits>::__ostream_type& std::basic_ostream<_CharT, _Traits>::operator<<(std::nullptr_t) [with _CharT = char; _Traits = std::char_traits<char>; std::basic_ostream<_CharT, _Traits>::__ostream_type = std::basic_ostream<char>; std::nullptr_t = std::nullptr_t]\u001b[m\u001b[K’\n",
            "  250 |       \u001b[01;36m\u001b[Koperator\u001b[m\u001b[K<<(nullptr_t)\n",
            "      |       \u001b[01;36m\u001b[K^~~~~~~~\u001b[m\u001b[K\n",
            "\u001b[01m\u001b[K/usr/include/c++/11/ostream:250:18:\u001b[m\u001b[K \u001b[01;36m\u001b[Knote: \u001b[m\u001b[K  no known conversion for argument 1 from ‘\u001b[01m\u001b[K<unresolved overloaded function type>\u001b[m\u001b[K’ to ‘\u001b[01m\u001b[Kstd::nullptr_t\u001b[m\u001b[K’\n",
            "  250 |       operator<<(\u001b[01;36m\u001b[Knullptr_t\u001b[m\u001b[K)\n",
            "      |                  \u001b[01;36m\u001b[K^~~~~~~~~\u001b[m\u001b[K\n",
            "In file included from \u001b[01m\u001b[K/usr/include/c++/11/ostream:829\u001b[m\u001b[K,\n",
            "                 from \u001b[01m\u001b[K/usr/include/c++/11/iostream:39\u001b[m\u001b[K,\n",
            "                 from \u001b[01m\u001b[Kch01.cpp:2\u001b[m\u001b[K:\n",
            "\u001b[01m\u001b[K/usr/include/c++/11/bits/ostream.tcc:119:5:\u001b[m\u001b[K \u001b[01;36m\u001b[Knote: \u001b[m\u001b[Kcandidate: ‘\u001b[01m\u001b[Kstd::basic_ostream<_CharT, _Traits>& std::basic_ostream<_CharT, _Traits>::operator<<(std::basic_ostream<_CharT, _Traits>::__streambuf_type*) [with _CharT = char; _Traits = std::char_traits<char>; std::basic_ostream<_CharT, _Traits>::__streambuf_type = std::basic_streambuf<char>]\u001b[m\u001b[K’\n",
            "  119 |     \u001b[01;36m\u001b[Kbasic_ostream<_CharT, _Traits>\u001b[m\u001b[K::\n",
            "      |     \u001b[01;36m\u001b[K^~~~~~~~~~~~~~~~~~~~~~~~~~~~~~\u001b[m\u001b[K\n",
            "\u001b[01m\u001b[K/usr/include/c++/11/bits/ostream.tcc:120:34:\u001b[m\u001b[K \u001b[01;36m\u001b[Knote: \u001b[m\u001b[K  no known conversion for argument 1 from ‘\u001b[01m\u001b[K<unresolved overloaded function type>\u001b[m\u001b[K’ to ‘\u001b[01m\u001b[Kstd::basic_ostream<char>::__streambuf_type*\u001b[m\u001b[K’ {aka ‘\u001b[01m\u001b[Kstd::basic_streambuf<char>*\u001b[m\u001b[K’}\n",
            "  120 |     operator<<(\u001b[01;36m\u001b[K__streambuf_type* __sbin\u001b[m\u001b[K)\n",
            "      |                \u001b[01;36m\u001b[K~~~~~~~~~~~~~~~~~~^~~~~~\u001b[m\u001b[K\n",
            "In file included from \u001b[01m\u001b[K/usr/include/c++/11/bits/basic_string.h:48\u001b[m\u001b[K,\n",
            "                 from \u001b[01m\u001b[K/usr/include/c++/11/string:55\u001b[m\u001b[K,\n",
            "                 from \u001b[01m\u001b[K/usr/include/c++/11/bits/locale_classes.h:40\u001b[m\u001b[K,\n",
            "                 from \u001b[01m\u001b[K/usr/include/c++/11/bits/ios_base.h:41\u001b[m\u001b[K,\n",
            "                 from \u001b[01m\u001b[K/usr/include/c++/11/ios:42\u001b[m\u001b[K,\n",
            "                 from \u001b[01m\u001b[K/usr/include/c++/11/ostream:38\u001b[m\u001b[K,\n",
            "                 from \u001b[01m\u001b[K/usr/include/c++/11/iostream:39\u001b[m\u001b[K,\n",
            "                 from \u001b[01m\u001b[Kch01.cpp:2\u001b[m\u001b[K:\n",
            "\u001b[01m\u001b[K/usr/include/c++/11/string_view:667:5:\u001b[m\u001b[K \u001b[01;36m\u001b[Knote: \u001b[m\u001b[Kcandidate: ‘\u001b[01m\u001b[Kstd::basic_ostream<_CharT, _Traits>& std::operator<<(std::basic_ostream<_CharT, _Traits>&, std::basic_string_view<_CharT, _Traits>) [with _CharT = char; _Traits = std::char_traits<char>]\u001b[m\u001b[K’\n",
            "  667 |     \u001b[01;36m\u001b[Koperator\u001b[m\u001b[K<<(basic_ostream<_CharT, _Traits>& __os,\n",
            "      |     \u001b[01;36m\u001b[K^~~~~~~~\u001b[m\u001b[K\n",
            "\u001b[01m\u001b[K/usr/include/c++/11/string_view:668:50:\u001b[m\u001b[K \u001b[01;36m\u001b[Knote: \u001b[m\u001b[K  no known conversion for argument 2 from ‘\u001b[01m\u001b[K<unresolved overloaded function type>\u001b[m\u001b[K’ to ‘\u001b[01m\u001b[Kstd::basic_string_view<char>\u001b[m\u001b[K’\n",
            "  668 |                \u001b[01;36m\u001b[Kbasic_string_view<_CharT,_Traits> __str\u001b[m\u001b[K)\n",
            "      |                \u001b[01;36m\u001b[K~~~~~~~~~~~~~~~~~~~~~~~~~~~~~~~~~~^~~~~\u001b[m\u001b[K\n",
            "In file included from \u001b[01m\u001b[K/usr/include/c++/11/string:55\u001b[m\u001b[K,\n",
            "                 from \u001b[01m\u001b[K/usr/include/c++/11/bits/locale_classes.h:40\u001b[m\u001b[K,\n",
            "                 from \u001b[01m\u001b[K/usr/include/c++/11/bits/ios_base.h:41\u001b[m\u001b[K,\n",
            "                 from \u001b[01m\u001b[K/usr/include/c++/11/ios:42\u001b[m\u001b[K,\n",
            "                 from \u001b[01m\u001b[K/usr/include/c++/11/ostream:38\u001b[m\u001b[K,\n",
            "                 from \u001b[01m\u001b[K/usr/include/c++/11/iostream:39\u001b[m\u001b[K,\n",
            "                 from \u001b[01m\u001b[Kch01.cpp:2\u001b[m\u001b[K:\n",
            "\u001b[01m\u001b[K/usr/include/c++/11/bits/basic_string.h:6531:5:\u001b[m\u001b[K \u001b[01;36m\u001b[Knote: \u001b[m\u001b[Kcandidate: ‘\u001b[01m\u001b[Ktemplate<class _CharT, class _Traits, class _Alloc> std::basic_ostream<_CharT, _Traits>& std::operator<<(std::basic_ostream<_CharT, _Traits>&, const std::__cxx11::basic_string<_CharT, _Traits, _Allocator>&)\u001b[m\u001b[K’\n",
            " 6531 |     \u001b[01;36m\u001b[Koperator\u001b[m\u001b[K<<(basic_ostream<_CharT, _Traits>& __os,\n",
            "      |     \u001b[01;36m\u001b[K^~~~~~~~\u001b[m\u001b[K\n",
            "\u001b[01m\u001b[K/usr/include/c++/11/bits/basic_string.h:6531:5:\u001b[m\u001b[K \u001b[01;36m\u001b[Knote: \u001b[m\u001b[K  template argument deduction/substitution failed:\n",
            "\u001b[01m\u001b[Kch01.cpp:50:39:\u001b[m\u001b[K \u001b[01;36m\u001b[Knote: \u001b[m\u001b[K  couldn’t deduce template parameter ‘\u001b[01m\u001b[K_Alloc\u001b[m\u001b[K’\n",
            "   50 |   cout << \"The maximum numer is: \" << \u001b[01;36m\u001b[Kmax\u001b[m\u001b[K << endl;\n",
            "      |                                       \u001b[01;36m\u001b[K^~~\u001b[m\u001b[K\n",
            "In file included from \u001b[01m\u001b[K/usr/include/c++/11/bits/ios_base.h:46\u001b[m\u001b[K,\n",
            "                 from \u001b[01m\u001b[K/usr/include/c++/11/ios:42\u001b[m\u001b[K,\n",
            "                 from \u001b[01m\u001b[K/usr/include/c++/11/ostream:38\u001b[m\u001b[K,\n",
            "                 from \u001b[01m\u001b[K/usr/include/c++/11/iostream:39\u001b[m\u001b[K,\n",
            "                 from \u001b[01m\u001b[Kch01.cpp:2\u001b[m\u001b[K:\n",
            "\u001b[01m\u001b[K/usr/include/c++/11/system_error:279:5:\u001b[m\u001b[K \u001b[01;36m\u001b[Knote: \u001b[m\u001b[Kcandidate: ‘\u001b[01m\u001b[Ktemplate<class _CharT, class _Traits> std::basic_ostream<_CharT, _Traits>& std::operator<<(std::basic_ostream<_CharT, _Traits>&, const std::error_code&)\u001b[m\u001b[K’\n",
            "  279 |     \u001b[01;36m\u001b[Koperator\u001b[m\u001b[K<<(basic_ostream<_CharT, _Traits>& __os, const error_code& __e)\n",
            "      |     \u001b[01;36m\u001b[K^~~~~~~~\u001b[m\u001b[K\n",
            "\u001b[01m\u001b[K/usr/include/c++/11/system_error:279:5:\u001b[m\u001b[K \u001b[01;36m\u001b[Knote: \u001b[m\u001b[K  template argument deduction/substitution failed:\n",
            "\u001b[01m\u001b[Kch01.cpp:50:39:\u001b[m\u001b[K \u001b[01;36m\u001b[Knote: \u001b[m\u001b[K  cannot convert ‘\u001b[01m\u001b[Kstd::max\u001b[m\u001b[K’ (type ‘\u001b[01m\u001b[K<unresolved overloaded function type>\u001b[m\u001b[K’) to type ‘\u001b[01m\u001b[Kconst std::error_code&\u001b[m\u001b[K’\n",
            "   50 |   cout << \"The maximum numer is: \" << \u001b[01;36m\u001b[Kmax\u001b[m\u001b[K << endl;\n",
            "      |                                       \u001b[01;36m\u001b[K^~~\u001b[m\u001b[K\n",
            "In file included from \u001b[01m\u001b[K/usr/include/c++/11/iostream:39\u001b[m\u001b[K,\n",
            "                 from \u001b[01m\u001b[Kch01.cpp:2\u001b[m\u001b[K:\n",
            "\u001b[01m\u001b[K/usr/include/c++/11/ostream:513:5:\u001b[m\u001b[K \u001b[01;36m\u001b[Knote: \u001b[m\u001b[Kcandidate: ‘\u001b[01m\u001b[Kstd::basic_ostream<_CharT, _Traits>& std::operator<<(std::basic_ostream<_CharT, _Traits>&, _CharT) [with _CharT = char; _Traits = std::char_traits<char>]\u001b[m\u001b[K’\n",
            "  513 |     \u001b[01;36m\u001b[Koperator\u001b[m\u001b[K<<(basic_ostream<_CharT, _Traits>& __out, _CharT __c)\n",
            "      |     \u001b[01;36m\u001b[K^~~~~~~~\u001b[m\u001b[K\n",
            "\u001b[01m\u001b[K/usr/include/c++/11/ostream:513:62:\u001b[m\u001b[K \u001b[01;36m\u001b[Knote: \u001b[m\u001b[K  no known conversion for argument 2 from ‘\u001b[01m\u001b[K<unresolved overloaded function type>\u001b[m\u001b[K’ to ‘\u001b[01m\u001b[Kchar\u001b[m\u001b[K’\n",
            "  513 |     operator<<(basic_ostream<_CharT, _Traits>& __out, \u001b[01;36m\u001b[K_CharT __c\u001b[m\u001b[K)\n",
            "      |                                                       \u001b[01;36m\u001b[K~~~~~~~^~~\u001b[m\u001b[K\n",
            "\u001b[01m\u001b[K/usr/include/c++/11/ostream:518:5:\u001b[m\u001b[K \u001b[01;36m\u001b[Knote: \u001b[m\u001b[Kcandidate: ‘\u001b[01m\u001b[Ktemplate<class _CharT, class _Traits> std::basic_ostream<_CharT, _Traits>& std::operator<<(std::basic_ostream<_CharT, _Traits>&, char)\u001b[m\u001b[K’\n",
            "  518 |     \u001b[01;36m\u001b[Koperator\u001b[m\u001b[K<<(basic_ostream<_CharT, _Traits>& __out, char __c)\n",
            "      |     \u001b[01;36m\u001b[K^~~~~~~~\u001b[m\u001b[K\n",
            "\u001b[01m\u001b[K/usr/include/c++/11/ostream:518:5:\u001b[m\u001b[K \u001b[01;36m\u001b[Knote: \u001b[m\u001b[K  template argument deduction/substitution failed:\n",
            "\u001b[01m\u001b[Kch01.cpp:50:39:\u001b[m\u001b[K \u001b[01;36m\u001b[Knote: \u001b[m\u001b[K  cannot convert ‘\u001b[01m\u001b[Kstd::max\u001b[m\u001b[K’ (type ‘\u001b[01m\u001b[K<unresolved overloaded function type>\u001b[m\u001b[K’) to type ‘\u001b[01m\u001b[Kchar\u001b[m\u001b[K’\n",
            "   50 |   cout << \"The maximum numer is: \" << \u001b[01;36m\u001b[Kmax\u001b[m\u001b[K << endl;\n",
            "      |                                       \u001b[01;36m\u001b[K^~~\u001b[m\u001b[K\n",
            "In file included from \u001b[01m\u001b[K/usr/include/c++/11/iostream:39\u001b[m\u001b[K,\n",
            "                 from \u001b[01m\u001b[Kch01.cpp:2\u001b[m\u001b[K:\n",
            "\u001b[01m\u001b[K/usr/include/c++/11/ostream:524:5:\u001b[m\u001b[K \u001b[01;36m\u001b[Knote: \u001b[m\u001b[Kcandidate: ‘\u001b[01m\u001b[Ktemplate<class _Traits> std::basic_ostream<char, _Traits>& std::operator<<(std::basic_ostream<char, _Traits>&, char)\u001b[m\u001b[K’\n",
            "  524 |     \u001b[01;36m\u001b[Koperator\u001b[m\u001b[K<<(basic_ostream<char, _Traits>& __out, char __c)\n",
            "      |     \u001b[01;36m\u001b[K^~~~~~~~\u001b[m\u001b[K\n",
            "\u001b[01m\u001b[K/usr/include/c++/11/ostream:524:5:\u001b[m\u001b[K \u001b[01;36m\u001b[Knote: \u001b[m\u001b[K  template argument deduction/substitution failed:\n",
            "\u001b[01m\u001b[Kch01.cpp:50:39:\u001b[m\u001b[K \u001b[01;36m\u001b[Knote: \u001b[m\u001b[K  cannot convert ‘\u001b[01m\u001b[Kstd::max\u001b[m\u001b[K’ (type ‘\u001b[01m\u001b[K<unresolved overloaded function type>\u001b[m\u001b[K’) to type ‘\u001b[01m\u001b[Kchar\u001b[m\u001b[K’\n",
            "   50 |   cout << \"The maximum numer is: \" << \u001b[01;36m\u001b[Kmax\u001b[m\u001b[K << endl;\n",
            "      |                                       \u001b[01;36m\u001b[K^~~\u001b[m\u001b[K\n",
            "In file included from \u001b[01m\u001b[K/usr/include/c++/11/iostream:39\u001b[m\u001b[K,\n",
            "                 from \u001b[01m\u001b[Kch01.cpp:2\u001b[m\u001b[K:\n",
            "\u001b[01m\u001b[K/usr/include/c++/11/ostream:530:5:\u001b[m\u001b[K \u001b[01;36m\u001b[Knote: \u001b[m\u001b[Kcandidate: ‘\u001b[01m\u001b[Ktemplate<class _Traits> std::basic_ostream<char, _Traits>& std::operator<<(std::basic_ostream<char, _Traits>&, signed char)\u001b[m\u001b[K’\n",
            "  530 |     \u001b[01;36m\u001b[Koperator\u001b[m\u001b[K<<(basic_ostream<char, _Traits>& __out, signed char __c)\n",
            "      |     \u001b[01;36m\u001b[K^~~~~~~~\u001b[m\u001b[K\n",
            "\u001b[01m\u001b[K/usr/include/c++/11/ostream:530:5:\u001b[m\u001b[K \u001b[01;36m\u001b[Knote: \u001b[m\u001b[K  template argument deduction/substitution failed:\n",
            "\u001b[01m\u001b[Kch01.cpp:50:39:\u001b[m\u001b[K \u001b[01;36m\u001b[Knote: \u001b[m\u001b[K  cannot convert ‘\u001b[01m\u001b[Kstd::max\u001b[m\u001b[K’ (type ‘\u001b[01m\u001b[K<unresolved overloaded function type>\u001b[m\u001b[K’) to type ‘\u001b[01m\u001b[Ksigned char\u001b[m\u001b[K’\n",
            "   50 |   cout << \"The maximum numer is: \" << \u001b[01;36m\u001b[Kmax\u001b[m\u001b[K << endl;\n",
            "      |                                       \u001b[01;36m\u001b[K^~~\u001b[m\u001b[K\n",
            "In file included from \u001b[01m\u001b[K/usr/include/c++/11/iostream:39\u001b[m\u001b[K,\n",
            "                 from \u001b[01m\u001b[Kch01.cpp:2\u001b[m\u001b[K:\n",
            "\u001b[01m\u001b[K/usr/include/c++/11/ostream:535:5:\u001b[m\u001b[K \u001b[01;36m\u001b[Knote: \u001b[m\u001b[Kcandidate: ‘\u001b[01m\u001b[Ktemplate<class _Traits> std::basic_ostream<char, _Traits>& std::operator<<(std::basic_ostream<char, _Traits>&, unsigned char)\u001b[m\u001b[K’\n",
            "  535 |     \u001b[01;36m\u001b[Koperator\u001b[m\u001b[K<<(basic_ostream<char, _Traits>& __out, unsigned char __c)\n",
            "      |     \u001b[01;36m\u001b[K^~~~~~~~\u001b[m\u001b[K\n",
            "\u001b[01m\u001b[K/usr/include/c++/11/ostream:535:5:\u001b[m\u001b[K \u001b[01;36m\u001b[Knote: \u001b[m\u001b[K  template argument deduction/substitution failed:\n",
            "\u001b[01m\u001b[Kch01.cpp:50:39:\u001b[m\u001b[K \u001b[01;36m\u001b[Knote: \u001b[m\u001b[K  cannot convert ‘\u001b[01m\u001b[Kstd::max\u001b[m\u001b[K’ (type ‘\u001b[01m\u001b[K<unresolved overloaded function type>\u001b[m\u001b[K’) to type ‘\u001b[01m\u001b[Kunsigned char\u001b[m\u001b[K’\n",
            "   50 |   cout << \"The maximum numer is: \" << \u001b[01;36m\u001b[Kmax\u001b[m\u001b[K << endl;\n",
            "      |                                       \u001b[01;36m\u001b[K^~~\u001b[m\u001b[K\n",
            "In file included from \u001b[01m\u001b[K/usr/include/c++/11/iostream:39\u001b[m\u001b[K,\n",
            "                 from \u001b[01m\u001b[Kch01.cpp:2\u001b[m\u001b[K:\n",
            "\u001b[01m\u001b[K/usr/include/c++/11/ostream:594:5:\u001b[m\u001b[K \u001b[01;36m\u001b[Knote: \u001b[m\u001b[Kcandidate: ‘\u001b[01m\u001b[Kstd::basic_ostream<_CharT, _Traits>& std::operator<<(std::basic_ostream<_CharT, _Traits>&, const _CharT*) [with _CharT = char; _Traits = std::char_traits<char>]\u001b[m\u001b[K’\n",
            "  594 |     \u001b[01;36m\u001b[Koperator\u001b[m\u001b[K<<(basic_ostream<_CharT, _Traits>& __out, const _CharT* __s)\n",
            "      |     \u001b[01;36m\u001b[K^~~~~~~~\u001b[m\u001b[K\n",
            "\u001b[01m\u001b[K/usr/include/c++/11/ostream:594:69:\u001b[m\u001b[K \u001b[01;36m\u001b[Knote: \u001b[m\u001b[K  no known conversion for argument 2 from ‘\u001b[01m\u001b[K<unresolved overloaded function type>\u001b[m\u001b[K’ to ‘\u001b[01m\u001b[Kconst char*\u001b[m\u001b[K’\n",
            "  594 |     operator<<(basic_ostream<_CharT, _Traits>& __out, \u001b[01;36m\u001b[Kconst _CharT* __s\u001b[m\u001b[K)\n",
            "      |                                                       \u001b[01;36m\u001b[K~~~~~~~~~~~~~~^~~\u001b[m\u001b[K\n",
            "In file included from \u001b[01m\u001b[K/usr/include/c++/11/ostream:829\u001b[m\u001b[K,\n",
            "                 from \u001b[01m\u001b[K/usr/include/c++/11/iostream:39\u001b[m\u001b[K,\n",
            "                 from \u001b[01m\u001b[Kch01.cpp:2\u001b[m\u001b[K:\n",
            "\u001b[01m\u001b[K/usr/include/c++/11/bits/ostream.tcc:321:5:\u001b[m\u001b[K \u001b[01;36m\u001b[Knote: \u001b[m\u001b[Kcandidate: ‘\u001b[01m\u001b[Ktemplate<class _CharT, class _Traits> std::basic_ostream<_CharT, _Traits>& std::operator<<(std::basic_ostream<_CharT, _Traits>&, const char*)\u001b[m\u001b[K’\n",
            "  321 |     \u001b[01;36m\u001b[Koperator\u001b[m\u001b[K<<(basic_ostream<_CharT, _Traits>& __out, const char* __s)\n",
            "      |     \u001b[01;36m\u001b[K^~~~~~~~\u001b[m\u001b[K\n",
            "\u001b[01m\u001b[K/usr/include/c++/11/bits/ostream.tcc:321:5:\u001b[m\u001b[K \u001b[01;36m\u001b[Knote: \u001b[m\u001b[K  template argument deduction/substitution failed:\n",
            "\u001b[01m\u001b[Kch01.cpp:50:39:\u001b[m\u001b[K \u001b[01;36m\u001b[Knote: \u001b[m\u001b[K  cannot convert ‘\u001b[01m\u001b[Kstd::max\u001b[m\u001b[K’ (type ‘\u001b[01m\u001b[K<unresolved overloaded function type>\u001b[m\u001b[K’) to type ‘\u001b[01m\u001b[Kconst char*\u001b[m\u001b[K’\n",
            "   50 |   cout << \"The maximum numer is: \" << \u001b[01;36m\u001b[Kmax\u001b[m\u001b[K << endl;\n",
            "      |                                       \u001b[01;36m\u001b[K^~~\u001b[m\u001b[K\n",
            "In file included from \u001b[01m\u001b[K/usr/include/c++/11/iostream:39\u001b[m\u001b[K,\n",
            "                 from \u001b[01m\u001b[Kch01.cpp:2\u001b[m\u001b[K:\n",
            "\u001b[01m\u001b[K/usr/include/c++/11/ostream:611:5:\u001b[m\u001b[K \u001b[01;36m\u001b[Knote: \u001b[m\u001b[Kcandidate: ‘\u001b[01m\u001b[Ktemplate<class _Traits> std::basic_ostream<char, _Traits>& std::operator<<(std::basic_ostream<char, _Traits>&, const char*)\u001b[m\u001b[K’\n",
            "  611 |     \u001b[01;36m\u001b[Koperator\u001b[m\u001b[K<<(basic_ostream<char, _Traits>& __out, const char* __s)\n",
            "      |     \u001b[01;36m\u001b[K^~~~~~~~\u001b[m\u001b[K\n",
            "\u001b[01m\u001b[K/usr/include/c++/11/ostream:611:5:\u001b[m\u001b[K \u001b[01;36m\u001b[Knote: \u001b[m\u001b[K  template argument deduction/substitution failed:\n",
            "\u001b[01m\u001b[Kch01.cpp:50:39:\u001b[m\u001b[K \u001b[01;36m\u001b[Knote: \u001b[m\u001b[K  cannot convert ‘\u001b[01m\u001b[Kstd::max\u001b[m\u001b[K’ (type ‘\u001b[01m\u001b[K<unresolved overloaded function type>\u001b[m\u001b[K’) to type ‘\u001b[01m\u001b[Kconst char*\u001b[m\u001b[K’\n",
            "   50 |   cout << \"The maximum numer is: \" << \u001b[01;36m\u001b[Kmax\u001b[m\u001b[K << endl;\n",
            "      |                                       \u001b[01;36m\u001b[K^~~\u001b[m\u001b[K\n",
            "In file included from \u001b[01m\u001b[K/usr/include/c++/11/iostream:39\u001b[m\u001b[K,\n",
            "                 from \u001b[01m\u001b[Kch01.cpp:2\u001b[m\u001b[K:\n",
            "\u001b[01m\u001b[K/usr/include/c++/11/ostream:624:5:\u001b[m\u001b[K \u001b[01;36m\u001b[Knote: \u001b[m\u001b[Kcandidate: ‘\u001b[01m\u001b[Ktemplate<class _Traits> std::basic_ostream<char, _Traits>& std::operator<<(std::basic_ostream<char, _Traits>&, const signed char*)\u001b[m\u001b[K’\n",
            "  624 |     \u001b[01;36m\u001b[Koperator\u001b[m\u001b[K<<(basic_ostream<char, _Traits>& __out, const signed char* __s)\n",
            "      |     \u001b[01;36m\u001b[K^~~~~~~~\u001b[m\u001b[K\n",
            "\u001b[01m\u001b[K/usr/include/c++/11/ostream:624:5:\u001b[m\u001b[K \u001b[01;36m\u001b[Knote: \u001b[m\u001b[K  template argument deduction/substitution failed:\n",
            "\u001b[01m\u001b[Kch01.cpp:50:39:\u001b[m\u001b[K \u001b[01;36m\u001b[Knote: \u001b[m\u001b[K  cannot convert ‘\u001b[01m\u001b[Kstd::max\u001b[m\u001b[K’ (type ‘\u001b[01m\u001b[K<unresolved overloaded function type>\u001b[m\u001b[K’) to type ‘\u001b[01m\u001b[Kconst signed char*\u001b[m\u001b[K’\n",
            "   50 |   cout << \"The maximum numer is: \" << \u001b[01;36m\u001b[Kmax\u001b[m\u001b[K << endl;\n",
            "      |                                       \u001b[01;36m\u001b[K^~~\u001b[m\u001b[K\n",
            "In file included from \u001b[01m\u001b[K/usr/include/c++/11/iostream:39\u001b[m\u001b[K,\n",
            "                 from \u001b[01m\u001b[Kch01.cpp:2\u001b[m\u001b[K:\n",
            "\u001b[01m\u001b[K/usr/include/c++/11/ostream:629:5:\u001b[m\u001b[K \u001b[01;36m\u001b[Knote: \u001b[m\u001b[Kcandidate: ‘\u001b[01m\u001b[Ktemplate<class _Traits> std::basic_ostream<char, _Traits>& std::operator<<(std::basic_ostream<char, _Traits>&, const unsigned char*)\u001b[m\u001b[K’\n",
            "  629 |     \u001b[01;36m\u001b[Koperator\u001b[m\u001b[K<<(basic_ostream<char, _Traits>& __out, const unsigned char* __s)\n",
            "      |     \u001b[01;36m\u001b[K^~~~~~~~\u001b[m\u001b[K\n",
            "\u001b[01m\u001b[K/usr/include/c++/11/ostream:629:5:\u001b[m\u001b[K \u001b[01;36m\u001b[Knote: \u001b[m\u001b[K  template argument deduction/substitution failed:\n",
            "\u001b[01m\u001b[Kch01.cpp:50:39:\u001b[m\u001b[K \u001b[01;36m\u001b[Knote: \u001b[m\u001b[K  cannot convert ‘\u001b[01m\u001b[Kstd::max\u001b[m\u001b[K’ (type ‘\u001b[01m\u001b[K<unresolved overloaded function type>\u001b[m\u001b[K’) to type ‘\u001b[01m\u001b[Kconst unsigned char*\u001b[m\u001b[K’\n",
            "   50 |   cout << \"The maximum numer is: \" << \u001b[01;36m\u001b[Kmax\u001b[m\u001b[K << endl;\n",
            "      |                                       \u001b[01;36m\u001b[K^~~\u001b[m\u001b[K\n",
            "In file included from \u001b[01m\u001b[K/usr/include/c++/11/iostream:39\u001b[m\u001b[K,\n",
            "                 from \u001b[01m\u001b[Kch01.cpp:2\u001b[m\u001b[K:\n",
            "\u001b[01m\u001b[K/usr/include/c++/11/ostream:750:5:\u001b[m\u001b[K \u001b[01;36m\u001b[Knote: \u001b[m\u001b[Kcandidate: ‘\u001b[01m\u001b[Ktemplate<class _Ostream, class _Tp> _Ostream&& std::operator<<(_Ostream&&, const _Tp&)\u001b[m\u001b[K’\n",
            "  750 |     \u001b[01;36m\u001b[Koperator\u001b[m\u001b[K<<(_Ostream&& __os, const _Tp& __x)\n",
            "      |     \u001b[01;36m\u001b[K^~~~~~~~\u001b[m\u001b[K\n",
            "\u001b[01m\u001b[K/usr/include/c++/11/ostream:750:5:\u001b[m\u001b[K \u001b[01;36m\u001b[Knote: \u001b[m\u001b[K  template argument deduction/substitution failed:\n",
            "\u001b[01m\u001b[Kch01.cpp:50:39:\u001b[m\u001b[K \u001b[01;36m\u001b[Knote: \u001b[m\u001b[K  couldn’t deduce template parameter ‘\u001b[01m\u001b[K_Tp\u001b[m\u001b[K’\n",
            "   50 |   cout << \"The maximum numer is: \" << \u001b[01;36m\u001b[Kmax\u001b[m\u001b[K << endl;\n",
            "      |                                       \u001b[01;36m\u001b[K^~~\u001b[m\u001b[K\n"
          ]
        }
      ]
    },
    {
      "cell_type": "markdown",
      "source": [
        "## Another example\n",
        "Here is a example program displaying a table of numbers and whether they are odd or even:"
      ],
      "metadata": {
        "id": "I2ZypGUUvXUf"
      }
    },
    {
      "cell_type": "code",
      "execution_count": null,
      "metadata": {
        "id": "a_m23UI1qTqA",
        "outputId": "694f684f-989d-4ee5-a902-fa41f4e052ec",
        "colab": {
          "base_uri": "https://localhost:8080/"
        }
      },
      "outputs": [
        {
          "output_type": "stream",
          "name": "stdout",
          "text": [
            "Overwriting ex02.cpp\n"
          ]
        }
      ],
      "source": [
        "%%writefile ex02.cpp\n",
        "\n",
        "#include <iostream>\n",
        "#include <iomanip>\n",
        "\n",
        "using namespace std;\n",
        "\n",
        "// Prototypes\n",
        "bool isOdd(int);\n",
        "bool isEven(int);\n",
        "\n",
        "// Definitions\n",
        "bool isOdd(int x){\n",
        "  return x % 2 == 1;\n",
        "}\n",
        "\n",
        "bool isEven(int x){\n",
        "  return !isOdd(x);\n",
        "}\n",
        "\n",
        "int main(){\n",
        "  cout << setw(8) << \"Number\" << setw(6) << \"Odd?\"    << setw(7) << \"Even?\"    << endl;\n",
        "  cout << setw(8) << 97       << setw(6) << isOdd(97) << setw(7) << isEven(97) << endl;\n",
        "  cout << setw(8) << 34       << setw(6) << isOdd(34) << setw(7) << isEven(34) << endl;\n",
        "\n",
        "  return 0;\n",
        "}"
      ]
    },
    {
      "cell_type": "markdown",
      "source": [
        "Notice this `isEven()` is defined as the negation (opposite) of `isOdd()`."
      ],
      "metadata": {
        "id": "KVdHtCTfw9dP"
      }
    },
    {
      "cell_type": "code",
      "source": [
        "!g++ -std=c++17 ex02.cpp -o ex01\n",
        "!./ex01"
      ],
      "metadata": {
        "id": "bOVCzF1Hwt8G",
        "outputId": "b6fc9f58-61a5-4cde-a83c-444137173ebe",
        "colab": {
          "base_uri": "https://localhost:8080/"
        }
      },
      "execution_count": null,
      "outputs": [
        {
          "output_type": "stream",
          "name": "stdout",
          "text": [
            "  Number  Odd?  Even?\n",
            "      97     1      0\n",
            "      34     0      1\n"
          ]
        }
      ]
    },
    {
      "cell_type": "markdown",
      "metadata": {
        "id": "JYzkMxGTqTqA"
      },
      "source": [
        "## CODING CHALLENGE 2\n",
        "\n",
        "Another example function is one that takes two integers and returns the integer that is the minimum of the two. In the program below, write the proptotype and definition of this `minimum` function. In the `main()` function, use a `cout` statement that calls the `minimum` function to print which of the following two numbers is minimum: 46, or 38"
      ]
    },
    {
      "cell_type": "code",
      "execution_count": 36,
      "metadata": {
        "id": "pWMJDNwAqTqA",
        "outputId": "778b1ef8-55bd-42f8-f2ec-27745cfd6eea",
        "colab": {
          "base_uri": "https://localhost:8080/"
        }
      },
      "outputs": [
        {
          "output_type": "stream",
          "name": "stdout",
          "text": [
            "Overwriting ch02.cpp\n"
          ]
        }
      ],
      "source": [
        "%%writefile ch02.cpp\n",
        "\n",
        "#include <iostream>\n",
        "using namespace std;\n",
        "\n",
        "// TODO: Add prototype here\n",
        "int minNumber(int, int);\n",
        "\n",
        "// TODO: Add definition here\n",
        "int minNumber(int a, int b){\n",
        "  if (a < b){\n",
        "    return a;\n",
        "  } else {\n",
        "    return b;\n",
        "  }\n",
        "}\n",
        "\n",
        "int main(){\n",
        "  // TODO: Call function here\n",
        "  int x, y;\n",
        "\n",
        "  cout << \"Enter two integers: \" << endl;\n",
        "  cin >> x, y;\n",
        "\n",
        "  min = minNumber(x, y);\n",
        "  cout << \"The minimum number is: \" << min << endl;\n",
        "\n",
        "  return 0;\n",
        "}"
      ]
    },
    {
      "cell_type": "code",
      "execution_count": 37,
      "metadata": {
        "id": "Mb-opOuqqTqB",
        "colab": {
          "base_uri": "https://localhost:8080/"
        },
        "outputId": "83fe5d88-cdb6-4c50-edcf-77ee2963f87d"
      },
      "outputs": [
        {
          "output_type": "stream",
          "name": "stdout",
          "text": [
            "\u001b[01m\u001b[Kch02.cpp:\u001b[m\u001b[K In function ‘\u001b[01m\u001b[Kint main()\u001b[m\u001b[K’:\n",
            "\u001b[01m\u001b[Kch02.cpp:24:23:\u001b[m\u001b[K \u001b[01;31m\u001b[Kerror: \u001b[m\u001b[Koverloaded function with no contextual type information\n",
            "   24 |   min = minNumber(x, y\u001b[01;31m\u001b[K)\u001b[m\u001b[K;\n",
            "      |                       \u001b[01;31m\u001b[K^\u001b[m\u001b[K\n",
            "\u001b[01m\u001b[Kch02.cpp:25:37:\u001b[m\u001b[K \u001b[01;31m\u001b[Kerror: \u001b[m\u001b[Kno match for ‘\u001b[01m\u001b[Koperator<<\u001b[m\u001b[K’ (operand types are ‘\u001b[01m\u001b[Kstd::basic_ostream<char>\u001b[m\u001b[K’ and ‘\u001b[01m\u001b[K<unresolved overloaded function type>\u001b[m\u001b[K’)\n",
            "   25 |   \u001b[01;31m\u001b[Kcout << \"The minimum number is: \" << min\u001b[m\u001b[K << endl;\n",
            "      |   \u001b[01;31m\u001b[K~~~~~~~~~~~~~~~~~~~~~~~~~~~~~~~~~~^~~~~~\u001b[m\u001b[K\n",
            "In file included from \u001b[01m\u001b[K/usr/include/c++/11/iostream:39\u001b[m\u001b[K,\n",
            "                 from \u001b[01m\u001b[Kch02.cpp:2\u001b[m\u001b[K:\n",
            "\u001b[01m\u001b[K/usr/include/c++/11/ostream:108:7:\u001b[m\u001b[K \u001b[01;36m\u001b[Knote: \u001b[m\u001b[Kcandidate: ‘\u001b[01m\u001b[Kstd::basic_ostream<_CharT, _Traits>::__ostream_type& std::basic_ostream<_CharT, _Traits>::operator<<(std::basic_ostream<_CharT, _Traits>::__ostream_type& (*)(std::basic_ostream<_CharT, _Traits>::__ostream_type&)) [with _CharT = char; _Traits = std::char_traits<char>; std::basic_ostream<_CharT, _Traits>::__ostream_type = std::basic_ostream<char>]\u001b[m\u001b[K’\n",
            "  108 |       \u001b[01;36m\u001b[Koperator\u001b[m\u001b[K<<(__ostream_type& (*__pf)(__ostream_type&))\n",
            "      |       \u001b[01;36m\u001b[K^~~~~~~~\u001b[m\u001b[K\n",
            "\u001b[01m\u001b[K/usr/include/c++/11/ostream:108:36:\u001b[m\u001b[K \u001b[01;36m\u001b[Knote: \u001b[m\u001b[K  no known conversion for argument 1 from ‘\u001b[01m\u001b[K<unresolved overloaded function type>\u001b[m\u001b[K’ to ‘\u001b[01m\u001b[Kstd::basic_ostream<char>::__ostream_type& (*)(std::basic_ostream<char>::__ostream_type&)\u001b[m\u001b[K’ {aka ‘\u001b[01m\u001b[Kstd::basic_ostream<char>& (*)(std::basic_ostream<char>&)\u001b[m\u001b[K’}\n",
            "  108 |       operator<<(\u001b[01;36m\u001b[K__ostream_type& (*__pf)(__ostream_type&)\u001b[m\u001b[K)\n",
            "      |                  \u001b[01;36m\u001b[K~~~~~~~~~~~~~~~~~~^~~~~~~~~~~~~~~~~~~~~~\u001b[m\u001b[K\n",
            "\u001b[01m\u001b[K/usr/include/c++/11/ostream:117:7:\u001b[m\u001b[K \u001b[01;36m\u001b[Knote: \u001b[m\u001b[Kcandidate: ‘\u001b[01m\u001b[Kstd::basic_ostream<_CharT, _Traits>::__ostream_type& std::basic_ostream<_CharT, _Traits>::operator<<(std::basic_ostream<_CharT, _Traits>::__ios_type& (*)(std::basic_ostream<_CharT, _Traits>::__ios_type&)) [with _CharT = char; _Traits = std::char_traits<char>; std::basic_ostream<_CharT, _Traits>::__ostream_type = std::basic_ostream<char>; std::basic_ostream<_CharT, _Traits>::__ios_type = std::basic_ios<char>]\u001b[m\u001b[K’\n",
            "  117 |       \u001b[01;36m\u001b[Koperator\u001b[m\u001b[K<<(__ios_type& (*__pf)(__ios_type&))\n",
            "      |       \u001b[01;36m\u001b[K^~~~~~~~\u001b[m\u001b[K\n",
            "\u001b[01m\u001b[K/usr/include/c++/11/ostream:117:32:\u001b[m\u001b[K \u001b[01;36m\u001b[Knote: \u001b[m\u001b[K  no known conversion for argument 1 from ‘\u001b[01m\u001b[K<unresolved overloaded function type>\u001b[m\u001b[K’ to ‘\u001b[01m\u001b[Kstd::basic_ostream<char>::__ios_type& (*)(std::basic_ostream<char>::__ios_type&)\u001b[m\u001b[K’ {aka ‘\u001b[01m\u001b[Kstd::basic_ios<char>& (*)(std::basic_ios<char>&)\u001b[m\u001b[K’}\n",
            "  117 |       operator<<(\u001b[01;36m\u001b[K__ios_type& (*__pf)(__ios_type&)\u001b[m\u001b[K)\n",
            "      |                  \u001b[01;36m\u001b[K~~~~~~~~~~~~~~^~~~~~~~~~~~~~~~~~\u001b[m\u001b[K\n",
            "\u001b[01m\u001b[K/usr/include/c++/11/ostream:127:7:\u001b[m\u001b[K \u001b[01;36m\u001b[Knote: \u001b[m\u001b[Kcandidate: ‘\u001b[01m\u001b[Kstd::basic_ostream<_CharT, _Traits>::__ostream_type& std::basic_ostream<_CharT, _Traits>::operator<<(std::ios_base& (*)(std::ios_base&)) [with _CharT = char; _Traits = std::char_traits<char>; std::basic_ostream<_CharT, _Traits>::__ostream_type = std::basic_ostream<char>]\u001b[m\u001b[K’\n",
            "  127 |       \u001b[01;36m\u001b[Koperator\u001b[m\u001b[K<<(ios_base& (*__pf) (ios_base&))\n",
            "      |       \u001b[01;36m\u001b[K^~~~~~~~\u001b[m\u001b[K\n",
            "\u001b[01m\u001b[K/usr/include/c++/11/ostream:127:30:\u001b[m\u001b[K \u001b[01;36m\u001b[Knote: \u001b[m\u001b[K  no known conversion for argument 1 from ‘\u001b[01m\u001b[K<unresolved overloaded function type>\u001b[m\u001b[K’ to ‘\u001b[01m\u001b[Kstd::ios_base& (*)(std::ios_base&)\u001b[m\u001b[K’\n",
            "  127 |       operator<<(\u001b[01;36m\u001b[Kios_base& (*__pf) (ios_base&)\u001b[m\u001b[K)\n",
            "      |                  \u001b[01;36m\u001b[K~~~~~~~~~~~~^~~~~~~~~~~~~~~~~\u001b[m\u001b[K\n",
            "\u001b[01m\u001b[K/usr/include/c++/11/ostream:166:7:\u001b[m\u001b[K \u001b[01;36m\u001b[Knote: \u001b[m\u001b[Kcandidate: ‘\u001b[01m\u001b[Kstd::basic_ostream<_CharT, _Traits>::__ostream_type& std::basic_ostream<_CharT, _Traits>::operator<<(long int) [with _CharT = char; _Traits = std::char_traits<char>; std::basic_ostream<_CharT, _Traits>::__ostream_type = std::basic_ostream<char>]\u001b[m\u001b[K’\n",
            "  166 |       \u001b[01;36m\u001b[Koperator\u001b[m\u001b[K<<(long __n)\n",
            "      |       \u001b[01;36m\u001b[K^~~~~~~~\u001b[m\u001b[K\n",
            "\u001b[01m\u001b[K/usr/include/c++/11/ostream:166:23:\u001b[m\u001b[K \u001b[01;36m\u001b[Knote: \u001b[m\u001b[K  no known conversion for argument 1 from ‘\u001b[01m\u001b[K<unresolved overloaded function type>\u001b[m\u001b[K’ to ‘\u001b[01m\u001b[Klong int\u001b[m\u001b[K’\n",
            "  166 |       operator<<(\u001b[01;36m\u001b[Klong __n\u001b[m\u001b[K)\n",
            "      |                  \u001b[01;36m\u001b[K~~~~~^~~\u001b[m\u001b[K\n",
            "\u001b[01m\u001b[K/usr/include/c++/11/ostream:170:7:\u001b[m\u001b[K \u001b[01;36m\u001b[Knote: \u001b[m\u001b[Kcandidate: ‘\u001b[01m\u001b[Kstd::basic_ostream<_CharT, _Traits>::__ostream_type& std::basic_ostream<_CharT, _Traits>::operator<<(long unsigned int) [with _CharT = char; _Traits = std::char_traits<char>; std::basic_ostream<_CharT, _Traits>::__ostream_type = std::basic_ostream<char>]\u001b[m\u001b[K’\n",
            "  170 |       \u001b[01;36m\u001b[Koperator\u001b[m\u001b[K<<(unsigned long __n)\n",
            "      |       \u001b[01;36m\u001b[K^~~~~~~~\u001b[m\u001b[K\n",
            "\u001b[01m\u001b[K/usr/include/c++/11/ostream:170:32:\u001b[m\u001b[K \u001b[01;36m\u001b[Knote: \u001b[m\u001b[K  no known conversion for argument 1 from ‘\u001b[01m\u001b[K<unresolved overloaded function type>\u001b[m\u001b[K’ to ‘\u001b[01m\u001b[Klong unsigned int\u001b[m\u001b[K’\n",
            "  170 |       operator<<(\u001b[01;36m\u001b[Kunsigned long __n\u001b[m\u001b[K)\n",
            "      |                  \u001b[01;36m\u001b[K~~~~~~~~~~~~~~^~~\u001b[m\u001b[K\n",
            "\u001b[01m\u001b[K/usr/include/c++/11/ostream:174:7:\u001b[m\u001b[K \u001b[01;36m\u001b[Knote: \u001b[m\u001b[Kcandidate: ‘\u001b[01m\u001b[Kstd::basic_ostream<_CharT, _Traits>::__ostream_type& std::basic_ostream<_CharT, _Traits>::operator<<(bool) [with _CharT = char; _Traits = std::char_traits<char>; std::basic_ostream<_CharT, _Traits>::__ostream_type = std::basic_ostream<char>]\u001b[m\u001b[K’\n",
            "  174 |       \u001b[01;36m\u001b[Koperator\u001b[m\u001b[K<<(bool __n)\n",
            "      |       \u001b[01;36m\u001b[K^~~~~~~~\u001b[m\u001b[K\n",
            "\u001b[01m\u001b[K/usr/include/c++/11/ostream:174:23:\u001b[m\u001b[K \u001b[01;36m\u001b[Knote: \u001b[m\u001b[K  no known conversion for argument 1 from ‘\u001b[01m\u001b[K<unresolved overloaded function type>\u001b[m\u001b[K’ to ‘\u001b[01m\u001b[Kbool\u001b[m\u001b[K’\n",
            "  174 |       operator<<(\u001b[01;36m\u001b[Kbool __n\u001b[m\u001b[K)\n",
            "      |                  \u001b[01;36m\u001b[K~~~~~^~~\u001b[m\u001b[K\n",
            "In file included from \u001b[01m\u001b[K/usr/include/c++/11/ostream:829\u001b[m\u001b[K,\n",
            "                 from \u001b[01m\u001b[K/usr/include/c++/11/iostream:39\u001b[m\u001b[K,\n",
            "                 from \u001b[01m\u001b[Kch02.cpp:2\u001b[m\u001b[K:\n",
            "\u001b[01m\u001b[K/usr/include/c++/11/bits/ostream.tcc:91:5:\u001b[m\u001b[K \u001b[01;36m\u001b[Knote: \u001b[m\u001b[Kcandidate: ‘\u001b[01m\u001b[Kstd::basic_ostream<_CharT, _Traits>& std::basic_ostream<_CharT, _Traits>::operator<<(short int) [with _CharT = char; _Traits = std::char_traits<char>]\u001b[m\u001b[K’\n",
            "   91 |     \u001b[01;36m\u001b[Kbasic_ostream<_CharT, _Traits>\u001b[m\u001b[K::\n",
            "      |     \u001b[01;36m\u001b[K^~~~~~~~~~~~~~~~~~~~~~~~~~~~~~\u001b[m\u001b[K\n",
            "\u001b[01m\u001b[K/usr/include/c++/11/bits/ostream.tcc:92:22:\u001b[m\u001b[K \u001b[01;36m\u001b[Knote: \u001b[m\u001b[K  no known conversion for argument 1 from ‘\u001b[01m\u001b[K<unresolved overloaded function type>\u001b[m\u001b[K’ to ‘\u001b[01m\u001b[Kshort int\u001b[m\u001b[K’\n",
            "   92 |     operator<<(\u001b[01;36m\u001b[Kshort __n\u001b[m\u001b[K)\n",
            "      |                \u001b[01;36m\u001b[K~~~~~~^~~\u001b[m\u001b[K\n",
            "In file included from \u001b[01m\u001b[K/usr/include/c++/11/iostream:39\u001b[m\u001b[K,\n",
            "                 from \u001b[01m\u001b[Kch02.cpp:2\u001b[m\u001b[K:\n",
            "\u001b[01m\u001b[K/usr/include/c++/11/ostream:181:7:\u001b[m\u001b[K \u001b[01;36m\u001b[Knote: \u001b[m\u001b[Kcandidate: ‘\u001b[01m\u001b[Kstd::basic_ostream<_CharT, _Traits>::__ostream_type& std::basic_ostream<_CharT, _Traits>::operator<<(short unsigned int) [with _CharT = char; _Traits = std::char_traits<char>; std::basic_ostream<_CharT, _Traits>::__ostream_type = std::basic_ostream<char>]\u001b[m\u001b[K’\n",
            "  181 |       \u001b[01;36m\u001b[Koperator\u001b[m\u001b[K<<(unsigned short __n)\n",
            "      |       \u001b[01;36m\u001b[K^~~~~~~~\u001b[m\u001b[K\n",
            "\u001b[01m\u001b[K/usr/include/c++/11/ostream:181:33:\u001b[m\u001b[K \u001b[01;36m\u001b[Knote: \u001b[m\u001b[K  no known conversion for argument 1 from ‘\u001b[01m\u001b[K<unresolved overloaded function type>\u001b[m\u001b[K’ to ‘\u001b[01m\u001b[Kshort unsigned int\u001b[m\u001b[K’\n",
            "  181 |       operator<<(\u001b[01;36m\u001b[Kunsigned short __n\u001b[m\u001b[K)\n",
            "      |                  \u001b[01;36m\u001b[K~~~~~~~~~~~~~~~^~~\u001b[m\u001b[K\n",
            "In file included from \u001b[01m\u001b[K/usr/include/c++/11/ostream:829\u001b[m\u001b[K,\n",
            "                 from \u001b[01m\u001b[K/usr/include/c++/11/iostream:39\u001b[m\u001b[K,\n",
            "                 from \u001b[01m\u001b[Kch02.cpp:2\u001b[m\u001b[K:\n",
            "\u001b[01m\u001b[K/usr/include/c++/11/bits/ostream.tcc:105:5:\u001b[m\u001b[K \u001b[01;36m\u001b[Knote: \u001b[m\u001b[Kcandidate: ‘\u001b[01m\u001b[Kstd::basic_ostream<_CharT, _Traits>& std::basic_ostream<_CharT, _Traits>::operator<<(int) [with _CharT = char; _Traits = std::char_traits<char>]\u001b[m\u001b[K’\n",
            "  105 |     \u001b[01;36m\u001b[Kbasic_ostream<_CharT, _Traits>\u001b[m\u001b[K::\n",
            "      |     \u001b[01;36m\u001b[K^~~~~~~~~~~~~~~~~~~~~~~~~~~~~~\u001b[m\u001b[K\n",
            "\u001b[01m\u001b[K/usr/include/c++/11/bits/ostream.tcc:106:20:\u001b[m\u001b[K \u001b[01;36m\u001b[Knote: \u001b[m\u001b[K  no known conversion for argument 1 from ‘\u001b[01m\u001b[K<unresolved overloaded function type>\u001b[m\u001b[K’ to ‘\u001b[01m\u001b[Kint\u001b[m\u001b[K’\n",
            "  106 |     operator<<(\u001b[01;36m\u001b[Kint __n\u001b[m\u001b[K)\n",
            "      |                \u001b[01;36m\u001b[K~~~~^~~\u001b[m\u001b[K\n",
            "In file included from \u001b[01m\u001b[K/usr/include/c++/11/iostream:39\u001b[m\u001b[K,\n",
            "                 from \u001b[01m\u001b[Kch02.cpp:2\u001b[m\u001b[K:\n",
            "\u001b[01m\u001b[K/usr/include/c++/11/ostream:192:7:\u001b[m\u001b[K \u001b[01;36m\u001b[Knote: \u001b[m\u001b[Kcandidate: ‘\u001b[01m\u001b[Kstd::basic_ostream<_CharT, _Traits>::__ostream_type& std::basic_ostream<_CharT, _Traits>::operator<<(unsigned int) [with _CharT = char; _Traits = std::char_traits<char>; std::basic_ostream<_CharT, _Traits>::__ostream_type = std::basic_ostream<char>]\u001b[m\u001b[K’\n",
            "  192 |       \u001b[01;36m\u001b[Koperator\u001b[m\u001b[K<<(unsigned int __n)\n",
            "      |       \u001b[01;36m\u001b[K^~~~~~~~\u001b[m\u001b[K\n",
            "\u001b[01m\u001b[K/usr/include/c++/11/ostream:192:31:\u001b[m\u001b[K \u001b[01;36m\u001b[Knote: \u001b[m\u001b[K  no known conversion for argument 1 from ‘\u001b[01m\u001b[K<unresolved overloaded function type>\u001b[m\u001b[K’ to ‘\u001b[01m\u001b[Kunsigned int\u001b[m\u001b[K’\n",
            "  192 |       operator<<(\u001b[01;36m\u001b[Kunsigned int __n\u001b[m\u001b[K)\n",
            "      |                  \u001b[01;36m\u001b[K~~~~~~~~~~~~~^~~\u001b[m\u001b[K\n",
            "\u001b[01m\u001b[K/usr/include/c++/11/ostream:201:7:\u001b[m\u001b[K \u001b[01;36m\u001b[Knote: \u001b[m\u001b[Kcandidate: ‘\u001b[01m\u001b[Kstd::basic_ostream<_CharT, _Traits>::__ostream_type& std::basic_ostream<_CharT, _Traits>::operator<<(long long int) [with _CharT = char; _Traits = std::char_traits<char>; std::basic_ostream<_CharT, _Traits>::__ostream_type = std::basic_ostream<char>]\u001b[m\u001b[K’\n",
            "  201 |       \u001b[01;36m\u001b[Koperator\u001b[m\u001b[K<<(long long __n)\n",
            "      |       \u001b[01;36m\u001b[K^~~~~~~~\u001b[m\u001b[K\n",
            "\u001b[01m\u001b[K/usr/include/c++/11/ostream:201:28:\u001b[m\u001b[K \u001b[01;36m\u001b[Knote: \u001b[m\u001b[K  no known conversion for argument 1 from ‘\u001b[01m\u001b[K<unresolved overloaded function type>\u001b[m\u001b[K’ to ‘\u001b[01m\u001b[Klong long int\u001b[m\u001b[K’\n",
            "  201 |       operator<<(\u001b[01;36m\u001b[Klong long __n\u001b[m\u001b[K)\n",
            "      |                  \u001b[01;36m\u001b[K~~~~~~~~~~^~~\u001b[m\u001b[K\n",
            "\u001b[01m\u001b[K/usr/include/c++/11/ostream:205:7:\u001b[m\u001b[K \u001b[01;36m\u001b[Knote: \u001b[m\u001b[Kcandidate: ‘\u001b[01m\u001b[Kstd::basic_ostream<_CharT, _Traits>::__ostream_type& std::basic_ostream<_CharT, _Traits>::operator<<(long long unsigned int) [with _CharT = char; _Traits = std::char_traits<char>; std::basic_ostream<_CharT, _Traits>::__ostream_type = std::basic_ostream<char>]\u001b[m\u001b[K’\n",
            "  205 |       \u001b[01;36m\u001b[Koperator\u001b[m\u001b[K<<(unsigned long long __n)\n",
            "      |       \u001b[01;36m\u001b[K^~~~~~~~\u001b[m\u001b[K\n",
            "\u001b[01m\u001b[K/usr/include/c++/11/ostream:205:37:\u001b[m\u001b[K \u001b[01;36m\u001b[Knote: \u001b[m\u001b[K  no known conversion for argument 1 from ‘\u001b[01m\u001b[K<unresolved overloaded function type>\u001b[m\u001b[K’ to ‘\u001b[01m\u001b[Klong long unsigned int\u001b[m\u001b[K’\n",
            "  205 |       operator<<(\u001b[01;36m\u001b[Kunsigned long long __n\u001b[m\u001b[K)\n",
            "      |                  \u001b[01;36m\u001b[K~~~~~~~~~~~~~~~~~~~^~~\u001b[m\u001b[K\n",
            "\u001b[01m\u001b[K/usr/include/c++/11/ostream:220:7:\u001b[m\u001b[K \u001b[01;36m\u001b[Knote: \u001b[m\u001b[Kcandidate: ‘\u001b[01m\u001b[Kstd::basic_ostream<_CharT, _Traits>::__ostream_type& std::basic_ostream<_CharT, _Traits>::operator<<(double) [with _CharT = char; _Traits = std::char_traits<char>; std::basic_ostream<_CharT, _Traits>::__ostream_type = std::basic_ostream<char>]\u001b[m\u001b[K’\n",
            "  220 |       \u001b[01;36m\u001b[Koperator\u001b[m\u001b[K<<(double __f)\n",
            "      |       \u001b[01;36m\u001b[K^~~~~~~~\u001b[m\u001b[K\n",
            "\u001b[01m\u001b[K/usr/include/c++/11/ostream:220:25:\u001b[m\u001b[K \u001b[01;36m\u001b[Knote: \u001b[m\u001b[K  no known conversion for argument 1 from ‘\u001b[01m\u001b[K<unresolved overloaded function type>\u001b[m\u001b[K’ to ‘\u001b[01m\u001b[Kdouble\u001b[m\u001b[K’\n",
            "  220 |       operator<<(\u001b[01;36m\u001b[Kdouble __f\u001b[m\u001b[K)\n",
            "      |                  \u001b[01;36m\u001b[K~~~~~~~^~~\u001b[m\u001b[K\n",
            "\u001b[01m\u001b[K/usr/include/c++/11/ostream:224:7:\u001b[m\u001b[K \u001b[01;36m\u001b[Knote: \u001b[m\u001b[Kcandidate: ‘\u001b[01m\u001b[Kstd::basic_ostream<_CharT, _Traits>::__ostream_type& std::basic_ostream<_CharT, _Traits>::operator<<(float) [with _CharT = char; _Traits = std::char_traits<char>; std::basic_ostream<_CharT, _Traits>::__ostream_type = std::basic_ostream<char>]\u001b[m\u001b[K’\n",
            "  224 |       \u001b[01;36m\u001b[Koperator\u001b[m\u001b[K<<(float __f)\n",
            "      |       \u001b[01;36m\u001b[K^~~~~~~~\u001b[m\u001b[K\n",
            "\u001b[01m\u001b[K/usr/include/c++/11/ostream:224:24:\u001b[m\u001b[K \u001b[01;36m\u001b[Knote: \u001b[m\u001b[K  no known conversion for argument 1 from ‘\u001b[01m\u001b[K<unresolved overloaded function type>\u001b[m\u001b[K’ to ‘\u001b[01m\u001b[Kfloat\u001b[m\u001b[K’\n",
            "  224 |       operator<<(\u001b[01;36m\u001b[Kfloat __f\u001b[m\u001b[K)\n",
            "      |                  \u001b[01;36m\u001b[K~~~~~~^~~\u001b[m\u001b[K\n",
            "\u001b[01m\u001b[K/usr/include/c++/11/ostream:232:7:\u001b[m\u001b[K \u001b[01;36m\u001b[Knote: \u001b[m\u001b[Kcandidate: ‘\u001b[01m\u001b[Kstd::basic_ostream<_CharT, _Traits>::__ostream_type& std::basic_ostream<_CharT, _Traits>::operator<<(long double) [with _CharT = char; _Traits = std::char_traits<char>; std::basic_ostream<_CharT, _Traits>::__ostream_type = std::basic_ostream<char>]\u001b[m\u001b[K’\n",
            "  232 |       \u001b[01;36m\u001b[Koperator\u001b[m\u001b[K<<(long double __f)\n",
            "      |       \u001b[01;36m\u001b[K^~~~~~~~\u001b[m\u001b[K\n",
            "\u001b[01m\u001b[K/usr/include/c++/11/ostream:232:30:\u001b[m\u001b[K \u001b[01;36m\u001b[Knote: \u001b[m\u001b[K  no known conversion for argument 1 from ‘\u001b[01m\u001b[K<unresolved overloaded function type>\u001b[m\u001b[K’ to ‘\u001b[01m\u001b[Klong double\u001b[m\u001b[K’\n",
            "  232 |       operator<<(\u001b[01;36m\u001b[Klong double __f\u001b[m\u001b[K)\n",
            "      |                  \u001b[01;36m\u001b[K~~~~~~~~~~~~^~~\u001b[m\u001b[K\n",
            "\u001b[01m\u001b[K/usr/include/c++/11/ostream:245:7:\u001b[m\u001b[K \u001b[01;36m\u001b[Knote: \u001b[m\u001b[Kcandidate: ‘\u001b[01m\u001b[Kstd::basic_ostream<_CharT, _Traits>::__ostream_type& std::basic_ostream<_CharT, _Traits>::operator<<(const void*) [with _CharT = char; _Traits = std::char_traits<char>; std::basic_ostream<_CharT, _Traits>::__ostream_type = std::basic_ostream<char>]\u001b[m\u001b[K’\n",
            "  245 |       \u001b[01;36m\u001b[Koperator\u001b[m\u001b[K<<(const void* __p)\n",
            "      |       \u001b[01;36m\u001b[K^~~~~~~~\u001b[m\u001b[K\n",
            "\u001b[01m\u001b[K/usr/include/c++/11/ostream:245:30:\u001b[m\u001b[K \u001b[01;36m\u001b[Knote: \u001b[m\u001b[K  no known conversion for argument 1 from ‘\u001b[01m\u001b[K<unresolved overloaded function type>\u001b[m\u001b[K’ to ‘\u001b[01m\u001b[Kconst void*\u001b[m\u001b[K’\n",
            "  245 |       operator<<(\u001b[01;36m\u001b[Kconst void* __p\u001b[m\u001b[K)\n",
            "      |                  \u001b[01;36m\u001b[K~~~~~~~~~~~~^~~\u001b[m\u001b[K\n",
            "\u001b[01m\u001b[K/usr/include/c++/11/ostream:250:7:\u001b[m\u001b[K \u001b[01;36m\u001b[Knote: \u001b[m\u001b[Kcandidate: ‘\u001b[01m\u001b[Kstd::basic_ostream<_CharT, _Traits>::__ostream_type& std::basic_ostream<_CharT, _Traits>::operator<<(std::nullptr_t) [with _CharT = char; _Traits = std::char_traits<char>; std::basic_ostream<_CharT, _Traits>::__ostream_type = std::basic_ostream<char>; std::nullptr_t = std::nullptr_t]\u001b[m\u001b[K’\n",
            "  250 |       \u001b[01;36m\u001b[Koperator\u001b[m\u001b[K<<(nullptr_t)\n",
            "      |       \u001b[01;36m\u001b[K^~~~~~~~\u001b[m\u001b[K\n",
            "\u001b[01m\u001b[K/usr/include/c++/11/ostream:250:18:\u001b[m\u001b[K \u001b[01;36m\u001b[Knote: \u001b[m\u001b[K  no known conversion for argument 1 from ‘\u001b[01m\u001b[K<unresolved overloaded function type>\u001b[m\u001b[K’ to ‘\u001b[01m\u001b[Kstd::nullptr_t\u001b[m\u001b[K’\n",
            "  250 |       operator<<(\u001b[01;36m\u001b[Knullptr_t\u001b[m\u001b[K)\n",
            "      |                  \u001b[01;36m\u001b[K^~~~~~~~~\u001b[m\u001b[K\n",
            "In file included from \u001b[01m\u001b[K/usr/include/c++/11/ostream:829\u001b[m\u001b[K,\n",
            "                 from \u001b[01m\u001b[K/usr/include/c++/11/iostream:39\u001b[m\u001b[K,\n",
            "                 from \u001b[01m\u001b[Kch02.cpp:2\u001b[m\u001b[K:\n",
            "\u001b[01m\u001b[K/usr/include/c++/11/bits/ostream.tcc:119:5:\u001b[m\u001b[K \u001b[01;36m\u001b[Knote: \u001b[m\u001b[Kcandidate: ‘\u001b[01m\u001b[Kstd::basic_ostream<_CharT, _Traits>& std::basic_ostream<_CharT, _Traits>::operator<<(std::basic_ostream<_CharT, _Traits>::__streambuf_type*) [with _CharT = char; _Traits = std::char_traits<char>; std::basic_ostream<_CharT, _Traits>::__streambuf_type = std::basic_streambuf<char>]\u001b[m\u001b[K’\n",
            "  119 |     \u001b[01;36m\u001b[Kbasic_ostream<_CharT, _Traits>\u001b[m\u001b[K::\n",
            "      |     \u001b[01;36m\u001b[K^~~~~~~~~~~~~~~~~~~~~~~~~~~~~~\u001b[m\u001b[K\n",
            "\u001b[01m\u001b[K/usr/include/c++/11/bits/ostream.tcc:120:34:\u001b[m\u001b[K \u001b[01;36m\u001b[Knote: \u001b[m\u001b[K  no known conversion for argument 1 from ‘\u001b[01m\u001b[K<unresolved overloaded function type>\u001b[m\u001b[K’ to ‘\u001b[01m\u001b[Kstd::basic_ostream<char>::__streambuf_type*\u001b[m\u001b[K’ {aka ‘\u001b[01m\u001b[Kstd::basic_streambuf<char>*\u001b[m\u001b[K’}\n",
            "  120 |     operator<<(\u001b[01;36m\u001b[K__streambuf_type* __sbin\u001b[m\u001b[K)\n",
            "      |                \u001b[01;36m\u001b[K~~~~~~~~~~~~~~~~~~^~~~~~\u001b[m\u001b[K\n",
            "In file included from \u001b[01m\u001b[K/usr/include/c++/11/bits/basic_string.h:48\u001b[m\u001b[K,\n",
            "                 from \u001b[01m\u001b[K/usr/include/c++/11/string:55\u001b[m\u001b[K,\n",
            "                 from \u001b[01m\u001b[K/usr/include/c++/11/bits/locale_classes.h:40\u001b[m\u001b[K,\n",
            "                 from \u001b[01m\u001b[K/usr/include/c++/11/bits/ios_base.h:41\u001b[m\u001b[K,\n",
            "                 from \u001b[01m\u001b[K/usr/include/c++/11/ios:42\u001b[m\u001b[K,\n",
            "                 from \u001b[01m\u001b[K/usr/include/c++/11/ostream:38\u001b[m\u001b[K,\n",
            "                 from \u001b[01m\u001b[K/usr/include/c++/11/iostream:39\u001b[m\u001b[K,\n",
            "                 from \u001b[01m\u001b[Kch02.cpp:2\u001b[m\u001b[K:\n",
            "\u001b[01m\u001b[K/usr/include/c++/11/string_view:667:5:\u001b[m\u001b[K \u001b[01;36m\u001b[Knote: \u001b[m\u001b[Kcandidate: ‘\u001b[01m\u001b[Kstd::basic_ostream<_CharT, _Traits>& std::operator<<(std::basic_ostream<_CharT, _Traits>&, std::basic_string_view<_CharT, _Traits>) [with _CharT = char; _Traits = std::char_traits<char>]\u001b[m\u001b[K’\n",
            "  667 |     \u001b[01;36m\u001b[Koperator\u001b[m\u001b[K<<(basic_ostream<_CharT, _Traits>& __os,\n",
            "      |     \u001b[01;36m\u001b[K^~~~~~~~\u001b[m\u001b[K\n",
            "\u001b[01m\u001b[K/usr/include/c++/11/string_view:668:50:\u001b[m\u001b[K \u001b[01;36m\u001b[Knote: \u001b[m\u001b[K  no known conversion for argument 2 from ‘\u001b[01m\u001b[K<unresolved overloaded function type>\u001b[m\u001b[K’ to ‘\u001b[01m\u001b[Kstd::basic_string_view<char>\u001b[m\u001b[K’\n",
            "  668 |                \u001b[01;36m\u001b[Kbasic_string_view<_CharT,_Traits> __str\u001b[m\u001b[K)\n",
            "      |                \u001b[01;36m\u001b[K~~~~~~~~~~~~~~~~~~~~~~~~~~~~~~~~~~^~~~~\u001b[m\u001b[K\n",
            "In file included from \u001b[01m\u001b[K/usr/include/c++/11/string:55\u001b[m\u001b[K,\n",
            "                 from \u001b[01m\u001b[K/usr/include/c++/11/bits/locale_classes.h:40\u001b[m\u001b[K,\n",
            "                 from \u001b[01m\u001b[K/usr/include/c++/11/bits/ios_base.h:41\u001b[m\u001b[K,\n",
            "                 from \u001b[01m\u001b[K/usr/include/c++/11/ios:42\u001b[m\u001b[K,\n",
            "                 from \u001b[01m\u001b[K/usr/include/c++/11/ostream:38\u001b[m\u001b[K,\n",
            "                 from \u001b[01m\u001b[K/usr/include/c++/11/iostream:39\u001b[m\u001b[K,\n",
            "                 from \u001b[01m\u001b[Kch02.cpp:2\u001b[m\u001b[K:\n",
            "\u001b[01m\u001b[K/usr/include/c++/11/bits/basic_string.h:6531:5:\u001b[m\u001b[K \u001b[01;36m\u001b[Knote: \u001b[m\u001b[Kcandidate: ‘\u001b[01m\u001b[Ktemplate<class _CharT, class _Traits, class _Alloc> std::basic_ostream<_CharT, _Traits>& std::operator<<(std::basic_ostream<_CharT, _Traits>&, const std::__cxx11::basic_string<_CharT, _Traits, _Allocator>&)\u001b[m\u001b[K’\n",
            " 6531 |     \u001b[01;36m\u001b[Koperator\u001b[m\u001b[K<<(basic_ostream<_CharT, _Traits>& __os,\n",
            "      |     \u001b[01;36m\u001b[K^~~~~~~~\u001b[m\u001b[K\n",
            "\u001b[01m\u001b[K/usr/include/c++/11/bits/basic_string.h:6531:5:\u001b[m\u001b[K \u001b[01;36m\u001b[Knote: \u001b[m\u001b[K  template argument deduction/substitution failed:\n",
            "\u001b[01m\u001b[Kch02.cpp:25:40:\u001b[m\u001b[K \u001b[01;36m\u001b[Knote: \u001b[m\u001b[K  couldn’t deduce template parameter ‘\u001b[01m\u001b[K_Alloc\u001b[m\u001b[K’\n",
            "   25 |   cout << \"The minimum number is: \" << \u001b[01;36m\u001b[Kmin\u001b[m\u001b[K << endl;\n",
            "      |                                        \u001b[01;36m\u001b[K^~~\u001b[m\u001b[K\n",
            "In file included from \u001b[01m\u001b[K/usr/include/c++/11/bits/ios_base.h:46\u001b[m\u001b[K,\n",
            "                 from \u001b[01m\u001b[K/usr/include/c++/11/ios:42\u001b[m\u001b[K,\n",
            "                 from \u001b[01m\u001b[K/usr/include/c++/11/ostream:38\u001b[m\u001b[K,\n",
            "                 from \u001b[01m\u001b[K/usr/include/c++/11/iostream:39\u001b[m\u001b[K,\n",
            "                 from \u001b[01m\u001b[Kch02.cpp:2\u001b[m\u001b[K:\n",
            "\u001b[01m\u001b[K/usr/include/c++/11/system_error:279:5:\u001b[m\u001b[K \u001b[01;36m\u001b[Knote: \u001b[m\u001b[Kcandidate: ‘\u001b[01m\u001b[Ktemplate<class _CharT, class _Traits> std::basic_ostream<_CharT, _Traits>& std::operator<<(std::basic_ostream<_CharT, _Traits>&, const std::error_code&)\u001b[m\u001b[K’\n",
            "  279 |     \u001b[01;36m\u001b[Koperator\u001b[m\u001b[K<<(basic_ostream<_CharT, _Traits>& __os, const error_code& __e)\n",
            "      |     \u001b[01;36m\u001b[K^~~~~~~~\u001b[m\u001b[K\n",
            "\u001b[01m\u001b[K/usr/include/c++/11/system_error:279:5:\u001b[m\u001b[K \u001b[01;36m\u001b[Knote: \u001b[m\u001b[K  template argument deduction/substitution failed:\n",
            "\u001b[01m\u001b[Kch02.cpp:25:40:\u001b[m\u001b[K \u001b[01;36m\u001b[Knote: \u001b[m\u001b[K  cannot convert ‘\u001b[01m\u001b[Kstd::min\u001b[m\u001b[K’ (type ‘\u001b[01m\u001b[K<unresolved overloaded function type>\u001b[m\u001b[K’) to type ‘\u001b[01m\u001b[Kconst std::error_code&\u001b[m\u001b[K’\n",
            "   25 |   cout << \"The minimum number is: \" << \u001b[01;36m\u001b[Kmin\u001b[m\u001b[K << endl;\n",
            "      |                                        \u001b[01;36m\u001b[K^~~\u001b[m\u001b[K\n",
            "In file included from \u001b[01m\u001b[K/usr/include/c++/11/iostream:39\u001b[m\u001b[K,\n",
            "                 from \u001b[01m\u001b[Kch02.cpp:2\u001b[m\u001b[K:\n",
            "\u001b[01m\u001b[K/usr/include/c++/11/ostream:513:5:\u001b[m\u001b[K \u001b[01;36m\u001b[Knote: \u001b[m\u001b[Kcandidate: ‘\u001b[01m\u001b[Kstd::basic_ostream<_CharT, _Traits>& std::operator<<(std::basic_ostream<_CharT, _Traits>&, _CharT) [with _CharT = char; _Traits = std::char_traits<char>]\u001b[m\u001b[K’\n",
            "  513 |     \u001b[01;36m\u001b[Koperator\u001b[m\u001b[K<<(basic_ostream<_CharT, _Traits>& __out, _CharT __c)\n",
            "      |     \u001b[01;36m\u001b[K^~~~~~~~\u001b[m\u001b[K\n",
            "\u001b[01m\u001b[K/usr/include/c++/11/ostream:513:62:\u001b[m\u001b[K \u001b[01;36m\u001b[Knote: \u001b[m\u001b[K  no known conversion for argument 2 from ‘\u001b[01m\u001b[K<unresolved overloaded function type>\u001b[m\u001b[K’ to ‘\u001b[01m\u001b[Kchar\u001b[m\u001b[K’\n",
            "  513 |     operator<<(basic_ostream<_CharT, _Traits>& __out, \u001b[01;36m\u001b[K_CharT __c\u001b[m\u001b[K)\n",
            "      |                                                       \u001b[01;36m\u001b[K~~~~~~~^~~\u001b[m\u001b[K\n",
            "\u001b[01m\u001b[K/usr/include/c++/11/ostream:518:5:\u001b[m\u001b[K \u001b[01;36m\u001b[Knote: \u001b[m\u001b[Kcandidate: ‘\u001b[01m\u001b[Ktemplate<class _CharT, class _Traits> std::basic_ostream<_CharT, _Traits>& std::operator<<(std::basic_ostream<_CharT, _Traits>&, char)\u001b[m\u001b[K’\n",
            "  518 |     \u001b[01;36m\u001b[Koperator\u001b[m\u001b[K<<(basic_ostream<_CharT, _Traits>& __out, char __c)\n",
            "      |     \u001b[01;36m\u001b[K^~~~~~~~\u001b[m\u001b[K\n",
            "\u001b[01m\u001b[K/usr/include/c++/11/ostream:518:5:\u001b[m\u001b[K \u001b[01;36m\u001b[Knote: \u001b[m\u001b[K  template argument deduction/substitution failed:\n",
            "\u001b[01m\u001b[Kch02.cpp:25:40:\u001b[m\u001b[K \u001b[01;36m\u001b[Knote: \u001b[m\u001b[K  cannot convert ‘\u001b[01m\u001b[Kstd::min\u001b[m\u001b[K’ (type ‘\u001b[01m\u001b[K<unresolved overloaded function type>\u001b[m\u001b[K’) to type ‘\u001b[01m\u001b[Kchar\u001b[m\u001b[K’\n",
            "   25 |   cout << \"The minimum number is: \" << \u001b[01;36m\u001b[Kmin\u001b[m\u001b[K << endl;\n",
            "      |                                        \u001b[01;36m\u001b[K^~~\u001b[m\u001b[K\n",
            "In file included from \u001b[01m\u001b[K/usr/include/c++/11/iostream:39\u001b[m\u001b[K,\n",
            "                 from \u001b[01m\u001b[Kch02.cpp:2\u001b[m\u001b[K:\n",
            "\u001b[01m\u001b[K/usr/include/c++/11/ostream:524:5:\u001b[m\u001b[K \u001b[01;36m\u001b[Knote: \u001b[m\u001b[Kcandidate: ‘\u001b[01m\u001b[Ktemplate<class _Traits> std::basic_ostream<char, _Traits>& std::operator<<(std::basic_ostream<char, _Traits>&, char)\u001b[m\u001b[K’\n",
            "  524 |     \u001b[01;36m\u001b[Koperator\u001b[m\u001b[K<<(basic_ostream<char, _Traits>& __out, char __c)\n",
            "      |     \u001b[01;36m\u001b[K^~~~~~~~\u001b[m\u001b[K\n",
            "\u001b[01m\u001b[K/usr/include/c++/11/ostream:524:5:\u001b[m\u001b[K \u001b[01;36m\u001b[Knote: \u001b[m\u001b[K  template argument deduction/substitution failed:\n",
            "\u001b[01m\u001b[Kch02.cpp:25:40:\u001b[m\u001b[K \u001b[01;36m\u001b[Knote: \u001b[m\u001b[K  cannot convert ‘\u001b[01m\u001b[Kstd::min\u001b[m\u001b[K’ (type ‘\u001b[01m\u001b[K<unresolved overloaded function type>\u001b[m\u001b[K’) to type ‘\u001b[01m\u001b[Kchar\u001b[m\u001b[K’\n",
            "   25 |   cout << \"The minimum number is: \" << \u001b[01;36m\u001b[Kmin\u001b[m\u001b[K << endl;\n",
            "      |                                        \u001b[01;36m\u001b[K^~~\u001b[m\u001b[K\n",
            "In file included from \u001b[01m\u001b[K/usr/include/c++/11/iostream:39\u001b[m\u001b[K,\n",
            "                 from \u001b[01m\u001b[Kch02.cpp:2\u001b[m\u001b[K:\n",
            "\u001b[01m\u001b[K/usr/include/c++/11/ostream:530:5:\u001b[m\u001b[K \u001b[01;36m\u001b[Knote: \u001b[m\u001b[Kcandidate: ‘\u001b[01m\u001b[Ktemplate<class _Traits> std::basic_ostream<char, _Traits>& std::operator<<(std::basic_ostream<char, _Traits>&, signed char)\u001b[m\u001b[K’\n",
            "  530 |     \u001b[01;36m\u001b[Koperator\u001b[m\u001b[K<<(basic_ostream<char, _Traits>& __out, signed char __c)\n",
            "      |     \u001b[01;36m\u001b[K^~~~~~~~\u001b[m\u001b[K\n",
            "\u001b[01m\u001b[K/usr/include/c++/11/ostream:530:5:\u001b[m\u001b[K \u001b[01;36m\u001b[Knote: \u001b[m\u001b[K  template argument deduction/substitution failed:\n",
            "\u001b[01m\u001b[Kch02.cpp:25:40:\u001b[m\u001b[K \u001b[01;36m\u001b[Knote: \u001b[m\u001b[K  cannot convert ‘\u001b[01m\u001b[Kstd::min\u001b[m\u001b[K’ (type ‘\u001b[01m\u001b[K<unresolved overloaded function type>\u001b[m\u001b[K’) to type ‘\u001b[01m\u001b[Ksigned char\u001b[m\u001b[K’\n",
            "   25 |   cout << \"The minimum number is: \" << \u001b[01;36m\u001b[Kmin\u001b[m\u001b[K << endl;\n",
            "      |                                        \u001b[01;36m\u001b[K^~~\u001b[m\u001b[K\n",
            "In file included from \u001b[01m\u001b[K/usr/include/c++/11/iostream:39\u001b[m\u001b[K,\n",
            "                 from \u001b[01m\u001b[Kch02.cpp:2\u001b[m\u001b[K:\n",
            "\u001b[01m\u001b[K/usr/include/c++/11/ostream:535:5:\u001b[m\u001b[K \u001b[01;36m\u001b[Knote: \u001b[m\u001b[Kcandidate: ‘\u001b[01m\u001b[Ktemplate<class _Traits> std::basic_ostream<char, _Traits>& std::operator<<(std::basic_ostream<char, _Traits>&, unsigned char)\u001b[m\u001b[K’\n",
            "  535 |     \u001b[01;36m\u001b[Koperator\u001b[m\u001b[K<<(basic_ostream<char, _Traits>& __out, unsigned char __c)\n",
            "      |     \u001b[01;36m\u001b[K^~~~~~~~\u001b[m\u001b[K\n",
            "\u001b[01m\u001b[K/usr/include/c++/11/ostream:535:5:\u001b[m\u001b[K \u001b[01;36m\u001b[Knote: \u001b[m\u001b[K  template argument deduction/substitution failed:\n",
            "\u001b[01m\u001b[Kch02.cpp:25:40:\u001b[m\u001b[K \u001b[01;36m\u001b[Knote: \u001b[m\u001b[K  cannot convert ‘\u001b[01m\u001b[Kstd::min\u001b[m\u001b[K’ (type ‘\u001b[01m\u001b[K<unresolved overloaded function type>\u001b[m\u001b[K’) to type ‘\u001b[01m\u001b[Kunsigned char\u001b[m\u001b[K’\n",
            "   25 |   cout << \"The minimum number is: \" << \u001b[01;36m\u001b[Kmin\u001b[m\u001b[K << endl;\n",
            "      |                                        \u001b[01;36m\u001b[K^~~\u001b[m\u001b[K\n",
            "In file included from \u001b[01m\u001b[K/usr/include/c++/11/iostream:39\u001b[m\u001b[K,\n",
            "                 from \u001b[01m\u001b[Kch02.cpp:2\u001b[m\u001b[K:\n",
            "\u001b[01m\u001b[K/usr/include/c++/11/ostream:594:5:\u001b[m\u001b[K \u001b[01;36m\u001b[Knote: \u001b[m\u001b[Kcandidate: ‘\u001b[01m\u001b[Kstd::basic_ostream<_CharT, _Traits>& std::operator<<(std::basic_ostream<_CharT, _Traits>&, const _CharT*) [with _CharT = char; _Traits = std::char_traits<char>]\u001b[m\u001b[K’\n",
            "  594 |     \u001b[01;36m\u001b[Koperator\u001b[m\u001b[K<<(basic_ostream<_CharT, _Traits>& __out, const _CharT* __s)\n",
            "      |     \u001b[01;36m\u001b[K^~~~~~~~\u001b[m\u001b[K\n",
            "\u001b[01m\u001b[K/usr/include/c++/11/ostream:594:69:\u001b[m\u001b[K \u001b[01;36m\u001b[Knote: \u001b[m\u001b[K  no known conversion for argument 2 from ‘\u001b[01m\u001b[K<unresolved overloaded function type>\u001b[m\u001b[K’ to ‘\u001b[01m\u001b[Kconst char*\u001b[m\u001b[K’\n",
            "  594 |     operator<<(basic_ostream<_CharT, _Traits>& __out, \u001b[01;36m\u001b[Kconst _CharT* __s\u001b[m\u001b[K)\n",
            "      |                                                       \u001b[01;36m\u001b[K~~~~~~~~~~~~~~^~~\u001b[m\u001b[K\n",
            "In file included from \u001b[01m\u001b[K/usr/include/c++/11/ostream:829\u001b[m\u001b[K,\n",
            "                 from \u001b[01m\u001b[K/usr/include/c++/11/iostream:39\u001b[m\u001b[K,\n",
            "                 from \u001b[01m\u001b[Kch02.cpp:2\u001b[m\u001b[K:\n",
            "\u001b[01m\u001b[K/usr/include/c++/11/bits/ostream.tcc:321:5:\u001b[m\u001b[K \u001b[01;36m\u001b[Knote: \u001b[m\u001b[Kcandidate: ‘\u001b[01m\u001b[Ktemplate<class _CharT, class _Traits> std::basic_ostream<_CharT, _Traits>& std::operator<<(std::basic_ostream<_CharT, _Traits>&, const char*)\u001b[m\u001b[K’\n",
            "  321 |     \u001b[01;36m\u001b[Koperator\u001b[m\u001b[K<<(basic_ostream<_CharT, _Traits>& __out, const char* __s)\n",
            "      |     \u001b[01;36m\u001b[K^~~~~~~~\u001b[m\u001b[K\n",
            "\u001b[01m\u001b[K/usr/include/c++/11/bits/ostream.tcc:321:5:\u001b[m\u001b[K \u001b[01;36m\u001b[Knote: \u001b[m\u001b[K  template argument deduction/substitution failed:\n",
            "\u001b[01m\u001b[Kch02.cpp:25:40:\u001b[m\u001b[K \u001b[01;36m\u001b[Knote: \u001b[m\u001b[K  cannot convert ‘\u001b[01m\u001b[Kstd::min\u001b[m\u001b[K’ (type ‘\u001b[01m\u001b[K<unresolved overloaded function type>\u001b[m\u001b[K’) to type ‘\u001b[01m\u001b[Kconst char*\u001b[m\u001b[K’\n",
            "   25 |   cout << \"The minimum number is: \" << \u001b[01;36m\u001b[Kmin\u001b[m\u001b[K << endl;\n",
            "      |                                        \u001b[01;36m\u001b[K^~~\u001b[m\u001b[K\n",
            "In file included from \u001b[01m\u001b[K/usr/include/c++/11/iostream:39\u001b[m\u001b[K,\n",
            "                 from \u001b[01m\u001b[Kch02.cpp:2\u001b[m\u001b[K:\n",
            "\u001b[01m\u001b[K/usr/include/c++/11/ostream:611:5:\u001b[m\u001b[K \u001b[01;36m\u001b[Knote: \u001b[m\u001b[Kcandidate: ‘\u001b[01m\u001b[Ktemplate<class _Traits> std::basic_ostream<char, _Traits>& std::operator<<(std::basic_ostream<char, _Traits>&, const char*)\u001b[m\u001b[K’\n",
            "  611 |     \u001b[01;36m\u001b[Koperator\u001b[m\u001b[K<<(basic_ostream<char, _Traits>& __out, const char* __s)\n",
            "      |     \u001b[01;36m\u001b[K^~~~~~~~\u001b[m\u001b[K\n",
            "\u001b[01m\u001b[K/usr/include/c++/11/ostream:611:5:\u001b[m\u001b[K \u001b[01;36m\u001b[Knote: \u001b[m\u001b[K  template argument deduction/substitution failed:\n",
            "\u001b[01m\u001b[Kch02.cpp:25:40:\u001b[m\u001b[K \u001b[01;36m\u001b[Knote: \u001b[m\u001b[K  cannot convert ‘\u001b[01m\u001b[Kstd::min\u001b[m\u001b[K’ (type ‘\u001b[01m\u001b[K<unresolved overloaded function type>\u001b[m\u001b[K’) to type ‘\u001b[01m\u001b[Kconst char*\u001b[m\u001b[K’\n",
            "   25 |   cout << \"The minimum number is: \" << \u001b[01;36m\u001b[Kmin\u001b[m\u001b[K << endl;\n",
            "      |                                        \u001b[01;36m\u001b[K^~~\u001b[m\u001b[K\n",
            "In file included from \u001b[01m\u001b[K/usr/include/c++/11/iostream:39\u001b[m\u001b[K,\n",
            "                 from \u001b[01m\u001b[Kch02.cpp:2\u001b[m\u001b[K:\n",
            "\u001b[01m\u001b[K/usr/include/c++/11/ostream:624:5:\u001b[m\u001b[K \u001b[01;36m\u001b[Knote: \u001b[m\u001b[Kcandidate: ‘\u001b[01m\u001b[Ktemplate<class _Traits> std::basic_ostream<char, _Traits>& std::operator<<(std::basic_ostream<char, _Traits>&, const signed char*)\u001b[m\u001b[K’\n",
            "  624 |     \u001b[01;36m\u001b[Koperator\u001b[m\u001b[K<<(basic_ostream<char, _Traits>& __out, const signed char* __s)\n",
            "      |     \u001b[01;36m\u001b[K^~~~~~~~\u001b[m\u001b[K\n",
            "\u001b[01m\u001b[K/usr/include/c++/11/ostream:624:5:\u001b[m\u001b[K \u001b[01;36m\u001b[Knote: \u001b[m\u001b[K  template argument deduction/substitution failed:\n",
            "\u001b[01m\u001b[Kch02.cpp:25:40:\u001b[m\u001b[K \u001b[01;36m\u001b[Knote: \u001b[m\u001b[K  cannot convert ‘\u001b[01m\u001b[Kstd::min\u001b[m\u001b[K’ (type ‘\u001b[01m\u001b[K<unresolved overloaded function type>\u001b[m\u001b[K’) to type ‘\u001b[01m\u001b[Kconst signed char*\u001b[m\u001b[K’\n",
            "   25 |   cout << \"The minimum number is: \" << \u001b[01;36m\u001b[Kmin\u001b[m\u001b[K << endl;\n",
            "      |                                        \u001b[01;36m\u001b[K^~~\u001b[m\u001b[K\n",
            "In file included from \u001b[01m\u001b[K/usr/include/c++/11/iostream:39\u001b[m\u001b[K,\n",
            "                 from \u001b[01m\u001b[Kch02.cpp:2\u001b[m\u001b[K:\n",
            "\u001b[01m\u001b[K/usr/include/c++/11/ostream:629:5:\u001b[m\u001b[K \u001b[01;36m\u001b[Knote: \u001b[m\u001b[Kcandidate: ‘\u001b[01m\u001b[Ktemplate<class _Traits> std::basic_ostream<char, _Traits>& std::operator<<(std::basic_ostream<char, _Traits>&, const unsigned char*)\u001b[m\u001b[K’\n",
            "  629 |     \u001b[01;36m\u001b[Koperator\u001b[m\u001b[K<<(basic_ostream<char, _Traits>& __out, const unsigned char* __s)\n",
            "      |     \u001b[01;36m\u001b[K^~~~~~~~\u001b[m\u001b[K\n",
            "\u001b[01m\u001b[K/usr/include/c++/11/ostream:629:5:\u001b[m\u001b[K \u001b[01;36m\u001b[Knote: \u001b[m\u001b[K  template argument deduction/substitution failed:\n",
            "\u001b[01m\u001b[Kch02.cpp:25:40:\u001b[m\u001b[K \u001b[01;36m\u001b[Knote: \u001b[m\u001b[K  cannot convert ‘\u001b[01m\u001b[Kstd::min\u001b[m\u001b[K’ (type ‘\u001b[01m\u001b[K<unresolved overloaded function type>\u001b[m\u001b[K’) to type ‘\u001b[01m\u001b[Kconst unsigned char*\u001b[m\u001b[K’\n",
            "   25 |   cout << \"The minimum number is: \" << \u001b[01;36m\u001b[Kmin\u001b[m\u001b[K << endl;\n",
            "      |                                        \u001b[01;36m\u001b[K^~~\u001b[m\u001b[K\n",
            "In file included from \u001b[01m\u001b[K/usr/include/c++/11/iostream:39\u001b[m\u001b[K,\n",
            "                 from \u001b[01m\u001b[Kch02.cpp:2\u001b[m\u001b[K:\n",
            "\u001b[01m\u001b[K/usr/include/c++/11/ostream:750:5:\u001b[m\u001b[K \u001b[01;36m\u001b[Knote: \u001b[m\u001b[Kcandidate: ‘\u001b[01m\u001b[Ktemplate<class _Ostream, class _Tp> _Ostream&& std::operator<<(_Ostream&&, const _Tp&)\u001b[m\u001b[K’\n",
            "  750 |     \u001b[01;36m\u001b[Koperator\u001b[m\u001b[K<<(_Ostream&& __os, const _Tp& __x)\n",
            "      |     \u001b[01;36m\u001b[K^~~~~~~~\u001b[m\u001b[K\n",
            "\u001b[01m\u001b[K/usr/include/c++/11/ostream:750:5:\u001b[m\u001b[K \u001b[01;36m\u001b[Knote: \u001b[m\u001b[K  template argument deduction/substitution failed:\n",
            "\u001b[01m\u001b[Kch02.cpp:25:40:\u001b[m\u001b[K \u001b[01;36m\u001b[Knote: \u001b[m\u001b[K  couldn’t deduce template parameter ‘\u001b[01m\u001b[K_Tp\u001b[m\u001b[K’\n",
            "   25 |   cout << \"The minimum number is: \" << \u001b[01;36m\u001b[Kmin\u001b[m\u001b[K << endl;\n",
            "      |                                        \u001b[01;36m\u001b[K^~~\u001b[m\u001b[K\n"
          ]
        }
      ],
      "source": [
        "!g++ -std=c++17 ch02.cpp -o ch02\n",
        "!./ch02"
      ]
    },
    {
      "cell_type": "markdown",
      "metadata": {
        "id": "aZ8qqJZzqTqB"
      },
      "source": [
        "## Yet another example\n",
        "Here is another example function for converting weights from pounds to kilograms, starting with the function prototype."
      ]
    },
    {
      "cell_type": "code",
      "source": [
        "%%writefile ex03.cpp\n",
        "\n",
        "#include <iostream>\n",
        "using namespace std;\n",
        "\n",
        "// TODO: Add prototoye here\n",
        "double lbs2kgs(double);\n",
        "\n",
        "// TODO: Add definition here\n",
        "double lbs2kgs(double pounds){\n",
        "  double kilograms =  0.453592 * pounds;\n",
        "  return kilograms;\n",
        "}\n",
        "\n",
        "int main(){\n",
        "  // TODO: Call function here\n",
        "  double lbs, kgs;\n",
        "\n",
        "  cout << \"Enter weight in pounds:\\n\"; cin >> lbs;\n",
        "  kgs = lbs2kgs(lbs);\n",
        "  cout << \"Weight in kilograms: \" << kgs << endl;\n",
        "\n",
        "  return 0;\n",
        "}"
      ],
      "metadata": {
        "id": "q8C-t6hoyzKY",
        "outputId": "dd7adc51-6eb7-4214-cca5-d65434090a2d",
        "colab": {
          "base_uri": "https://localhost:8080/"
        }
      },
      "execution_count": null,
      "outputs": [
        {
          "output_type": "stream",
          "name": "stdout",
          "text": [
            "Overwriting ex03.cpp\n"
          ]
        }
      ]
    },
    {
      "cell_type": "markdown",
      "metadata": {
        "id": "IGoltXd_qTqB"
      },
      "source": [
        "Notice that any variable defined inside a function is a **local variable**; it only exists within that function. For example, the variable `kilograms` is a local variable of the `lbs2kgs` function and so is the variable `pounds`. Both exist only inside the `lbs2kgs` function and cannot be used outside of it. In other words, their **scope** is local and limited to the function that defines them.\n",
        "\n",
        "Let's run this program:"
      ]
    },
    {
      "cell_type": "code",
      "execution_count": null,
      "metadata": {
        "id": "dSiY4KonqTqB",
        "outputId": "e8a1daee-69c7-45dc-a560-c71fd66ce5f5",
        "colab": {
          "base_uri": "https://localhost:8080/"
        }
      },
      "outputs": [
        {
          "output_type": "stream",
          "name": "stdout",
          "text": [
            "Enter weight in pounds:\n",
            "54\n",
            "Weight in kilograms: 24.494\n"
          ]
        }
      ],
      "source": [
        "!g++ -std=c++17 ex03.cpp -o ex03\n",
        "!./ex03"
      ]
    },
    {
      "cell_type": "markdown",
      "metadata": {
        "id": "7p9N0eTJqTqC"
      },
      "source": [
        "## CODING CHALLENGE 3\n",
        "\n",
        "In the code cell below, write the prototype of a function named `kgs2lbs` that converts kilograms into pounds. In the next code cell after that, write the definition of this function. In the next code cell after that, write some c++ code that will test your `kgs2lbs` function just like we did in the example above."
      ]
    },
    {
      "cell_type": "code",
      "execution_count": 34,
      "metadata": {
        "id": "_ipdZEX8qTqC",
        "outputId": "698877be-ed95-42d5-c35a-4d97aa44285e",
        "colab": {
          "base_uri": "https://localhost:8080/"
        }
      },
      "outputs": [
        {
          "output_type": "stream",
          "name": "stdout",
          "text": [
            "Overwriting ch03.cpp\n"
          ]
        }
      ],
      "source": [
        "%%writefile ch03.cpp\n",
        "\n",
        "#include <iostream>\n",
        "using namespace std;\n",
        "\n",
        "// TODO: Add prototoye here\n",
        "double kgs2lbs(double);\n",
        "\n",
        "// TODO: Add definition here\n",
        "double kgs2lbs(double kilograms){\n",
        "  double pounds =  kilograms / 0.453592;\n",
        "  return pounds;\n",
        "}\n",
        "\n",
        "int main(){\n",
        "  // TODO: Test function here\n",
        "  double lbs, kgs;\n",
        "\n",
        "  cout << \"Enter weight in kilograms:\\n\"; cin >> kgs;\n",
        "  lbs = kgs2lbs(kgs);\n",
        "  cout << \"Weight in pounds: \" << lbs << endl;\n",
        "\n",
        "  return 0;\n",
        "}"
      ]
    },
    {
      "cell_type": "code",
      "execution_count": 35,
      "metadata": {
        "id": "LHJLggPyqTqC",
        "colab": {
          "base_uri": "https://localhost:8080/"
        },
        "outputId": "00d0d56d-e373-4ded-af1c-2b8184acf41d"
      },
      "outputs": [
        {
          "output_type": "stream",
          "name": "stdout",
          "text": [
            "Enter weight in kilograms:\n",
            "25\n",
            "Weight in pounds: 55.1156\n"
          ]
        }
      ],
      "source": [
        "!g++ -std=c++17 ch03.cpp -o ch03\n",
        "!./ch03"
      ]
    },
    {
      "cell_type": "markdown",
      "metadata": {
        "id": "ag9cHGs_qTqC"
      },
      "source": [
        "## Passing arguments/parameters to functions\n",
        "In C++, arguments/parameters can be passed to a function in one of three ways:\n",
        "1. **By value** which creates copies of the passed data and passes those copies to the function. This protects the original arguments from being changed inside the function.\n",
        "2. **By reference** which uses references to pass the original arguments to the function. These original arguments can now be changed inside the function.\n",
        "3. **By pointer** which is similar to **by reference** in passing the original arguments to the function but uses pointers instead. We will cover this when we study **pointers**.\n",
        "\n",
        "The functions above used passing by value. Here is another example of passing by value, where a copy of the value of `n` is created and passed to the `incrementBy2` function."
      ]
    },
    {
      "cell_type": "code",
      "execution_count": null,
      "metadata": {
        "id": "vq8bL3L3qTqC",
        "outputId": "4edb1a74-3f7d-46a8-a2ea-43c82f2d97c8",
        "colab": {
          "base_uri": "https://localhost:8080/"
        }
      },
      "outputs": [
        {
          "output_type": "stream",
          "name": "stdout",
          "text": [
            "Overwriting ex04.cpp\n"
          ]
        }
      ],
      "source": [
        "%%writefile ex04.cpp\n",
        "\n",
        "#include <iostream>\n",
        "using namespace std;\n",
        "\n",
        "// TODO: Add prototoye here\n",
        "int incrementBy2(int);\n",
        "\n",
        "// TODO: Add definition here\n",
        "int incrementBy2(int n){\n",
        "  return ++(++n);\n",
        "}\n",
        "\n",
        "int main(){\n",
        "  // TODO: Test function here\n",
        "  int n = 15;\n",
        "\n",
        "  cout << \"n = \" << n << endl;\n",
        "  cout << \"n = \" << incrementBy2(n) << endl;\n",
        "  cout << \"n = \" << n << endl;\n",
        "\n",
        "  return 0;\n",
        "}"
      ]
    },
    {
      "cell_type": "markdown",
      "source": [
        "This function receives a copy of `n` which it increments twice but that does not affect the original `n`.\n"
      ],
      "metadata": {
        "id": "LtLnLSuC03w2"
      }
    },
    {
      "cell_type": "code",
      "execution_count": null,
      "metadata": {
        "id": "A2Z1KjfKqTqC",
        "outputId": "fdedeb41-9780-425c-ada6-e633444452de",
        "colab": {
          "base_uri": "https://localhost:8080/"
        }
      },
      "outputs": [
        {
          "output_type": "stream",
          "name": "stdout",
          "text": [
            "n = 15\n",
            "n = 17\n",
            "n = 15\n"
          ]
        }
      ],
      "source": [
        "!g++ -std=c++17 ex04.cpp -o ex04\n",
        "!./ex04"
      ]
    },
    {
      "cell_type": "markdown",
      "metadata": {
        "id": "rTkiYuSNqTqD"
      },
      "source": [
        "## References\n",
        "To avoid copying big values when calling a function, **references** should be used. A **reference** is just another name or an alias for a variable. We use the ampersand `&` operator to define references which takes the form:\n",
        "\n",
        "``` c++\n",
        "<datatype>& <alias> = <variable>;\n",
        "```\n",
        "\n",
        "For example, in:\n",
        "\n",
        "```cpp\n",
        "int x = 9;\n",
        "int& y = x;\n",
        "```\n",
        "\n",
        "`y` is a reference or another name for `x`.  That means `y` is pointing to the same location of memory as `x` and by changing `y`, `x` automatically changes. That is, the following:\n",
        "\n",
        "```cpp\n",
        "y = 17;\n",
        "cout << x;\n",
        "```\n",
        "\n",
        "prints:\n",
        "\n",
        "```txt\n",
        "17\n",
        "```"
      ]
    },
    {
      "cell_type": "markdown",
      "metadata": {
        "id": "rB9UfF8TqTqD"
      },
      "source": [
        "References are meant to be a safer and better alternative to pointers (which we will see later); they have the following properties which make them safe to use:\n",
        "* Once created, they cannot be changed; in other words, they cannot be made to reference other variables; and\n",
        "* They cannot be `null`.\n",
        "\n",
        "Because of these properties, they are commonly used for giving functions access to the original values of their parameters without copying them. This is called **passing arguments by reference**, which is faster and more efficient than **passing by value**.\n",
        "\n",
        "Here is an example of passing arguments **by reference**. Notice the use of ampersands `&` after the arguments' data types."
      ]
    },
    {
      "cell_type": "code",
      "execution_count": null,
      "metadata": {
        "id": "j73d2MNZqTqE",
        "outputId": "77021f91-9be5-47e0-b248-538bd43eb3bd",
        "colab": {
          "base_uri": "https://localhost:8080/"
        }
      },
      "outputs": [
        {
          "output_type": "stream",
          "name": "stdout",
          "text": [
            "Overwriting ex05.cpp\n"
          ]
        }
      ],
      "source": [
        "%%writefile ex05.cpp\n",
        "\n",
        "#include <iostream>\n",
        "using namespace std;\n",
        "\n",
        "// TODO: Add prototoye here\n",
        "void swapValues(int&, int&);\n",
        "\n",
        "// TODO: Add definition here\n",
        "void swapValues(int& n, int& m){\n",
        "  int o = n;\n",
        "  n = m;\n",
        "  m = o;\n",
        "}\n",
        "\n",
        "int main(){\n",
        "  // TODO: Test function here\n",
        "  int a = 10;\n",
        "  int b = 15;\n",
        "\n",
        "  cout << \"a = \" << a << \", b = \" << b << endl;\n",
        "  swapValues(a, b);\n",
        "  cout << \"a = \" << a << \", b = \" << b << endl;\n",
        "\n",
        "  return 0;\n",
        "}"
      ]
    },
    {
      "cell_type": "markdown",
      "metadata": {
        "id": "H6OFyM8GqTqE"
      },
      "source": [
        "Let's decompose the above function definition into its parts:\n",
        "\n",
        "* The type of the value returned by the function:\n",
        "\n",
        " `void`\n",
        "\n",
        "* The name of the function:\n",
        "\n",
        " `swapValues`\n",
        "\n",
        "* The list of the function's expected parameters placed between `(` and `)`:\n",
        "\n",
        " `(int& n, int& m)`\n",
        "\n",
        " This function expects two integer parameters passed to it by reference.\n",
        "\n",
        "* The body of the function placed between `{` and `}`:\n",
        "\n",
        " ```\n",
        "   {\n",
        "      int o = n;\n",
        "      n = m;\n",
        "      m = o;\n",
        "   }\n",
        " ```\n",
        "\n",
        " This function being a `void`-returning function does not need a return statement. The function will automatically return when it reaches the `}` at the and.\n",
        "\n",
        "Here the output of the above program:"
      ]
    },
    {
      "cell_type": "code",
      "execution_count": null,
      "metadata": {
        "id": "s-m4jyzLqTqE",
        "outputId": "02a467ef-4e27-42fe-cc0d-89139732763b",
        "colab": {
          "base_uri": "https://localhost:8080/"
        }
      },
      "outputs": [
        {
          "output_type": "stream",
          "name": "stdout",
          "text": [
            "a = 10, b = 15\n",
            "a = 15, b = 10\n"
          ]
        }
      ],
      "source": [
        "!g++ -std=c++17 ex05.cpp -o ex05\n",
        "!./ex05"
      ]
    },
    {
      "cell_type": "markdown",
      "metadata": {
        "id": "mASbVn_ZqTqE"
      },
      "source": [
        "## Overloaded functions\n",
        "C++ allows multiple functions to have the same name as long as their signatures are different or unique. In other words, functions can have the same name as long as they are different in either the kinds of arguments they take or the number of arguments they take. We call functions with the same name as others **overloaded functions**.\n",
        "\n",
        "Here are examples of overloaded functions where the only difference is in the kinds of their arguments.\n",
        "\n",
        "``` c++\n",
        "void swapValues(int&, int&);\n",
        "void swapValues(double&, double&);\n",
        "```\n",
        "\n",
        "And here are other overloaded functions taking a different number of arguments.\n",
        "\n",
        "``` c++\n",
        "int findMax(int, int);\n",
        "int findMax(int, int, int);\n",
        "```\n",
        "\n",
        "## CODING CHALLENGE 4\n",
        "\n",
        "In the program below, define the following overloaded function.\n",
        "``` c++\n",
        "void swapValues(long&, long&);\n",
        "void swapValues(double&, double&);\n",
        "```\n",
        "\n",
        "In the next cell after that, test your function."
      ]
    },
    {
      "cell_type": "code",
      "execution_count": null,
      "metadata": {
        "id": "WciF9hOkqTqE",
        "outputId": "468af0e6-c886-403e-c06d-2cecf5589597",
        "colab": {
          "base_uri": "https://localhost:8080/"
        }
      },
      "outputs": [
        {
          "output_type": "stream",
          "name": "stdout",
          "text": [
            "Overwriting ch04.cpp\n"
          ]
        }
      ],
      "source": [
        "%%writefile ch04.cpp\n",
        "\n",
        "#include <iostream>\n",
        "using namespace std;\n",
        "\n",
        "// TODO: Add prototypes here\n",
        "\n",
        "// TODO: Add definitions here\n",
        "\n",
        "int main(){\n",
        "  // TODO: Test functions here\n",
        "\n",
        "  return 0;\n",
        "}"
      ]
    },
    {
      "cell_type": "code",
      "execution_count": null,
      "metadata": {
        "id": "ttmjxgU-qTqF"
      },
      "outputs": [],
      "source": [
        "!g++ -std=c++17 ch04.cpp -o ch04\n",
        "!./ch04"
      ]
    }
  ],
  "metadata": {
    "kernelspec": {
      "display_name": "Python 3",
      "name": "python3"
    },
    "language_info": {
      "name": "python"
    },
    "colab": {
      "provenance": [],
      "toc_visible": true
    }
  },
  "nbformat": 4,
  "nbformat_minor": 0
}